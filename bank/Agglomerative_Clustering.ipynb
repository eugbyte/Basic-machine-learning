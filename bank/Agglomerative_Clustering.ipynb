{
 "cells": [
  {
   "cell_type": "code",
   "execution_count": 1,
   "metadata": {},
   "outputs": [],
   "source": [
    "# import everything\n",
    "import pandas as pd\n",
    "import numpy as np\n",
    "import sklearn\n",
    "import matplotlib.pyplot as plt\n",
    "import seaborn as sb\n",
    "from sklearn.neighbors import KNeighborsClassifier\n",
    "from sklearn.metrics import accuracy_score\n",
    "\n",
    "from sklearn import preprocessing \n",
    "from sklearn.cluster import AgglomerativeClustering\n",
    "from sklearn import preprocessing\n",
    "from scipy.cluster.hierarchy import dendrogram, linkage\n",
    "from sklearn.decomposition import PCA\n"
   ]
  },
  {
   "cell_type": "code",
   "execution_count": 2,
   "metadata": {},
   "outputs": [
    {
     "data": {
      "text/html": [
       "<div>\n",
       "<style scoped>\n",
       "    .dataframe tbody tr th:only-of-type {\n",
       "        vertical-align: middle;\n",
       "    }\n",
       "\n",
       "    .dataframe tbody tr th {\n",
       "        vertical-align: top;\n",
       "    }\n",
       "\n",
       "    .dataframe thead th {\n",
       "        text-align: right;\n",
       "    }\n",
       "</style>\n",
       "<table border=\"1\" class=\"dataframe\">\n",
       "  <thead>\n",
       "    <tr style=\"text-align: right;\">\n",
       "      <th></th>\n",
       "      <th>age</th>\n",
       "      <th>job</th>\n",
       "      <th>marital</th>\n",
       "      <th>education</th>\n",
       "      <th>default</th>\n",
       "      <th>balance</th>\n",
       "      <th>housing</th>\n",
       "      <th>loan</th>\n",
       "      <th>contact</th>\n",
       "      <th>day</th>\n",
       "      <th>month</th>\n",
       "      <th>duration</th>\n",
       "      <th>campaign</th>\n",
       "      <th>pdays</th>\n",
       "      <th>previous</th>\n",
       "      <th>poutcome</th>\n",
       "      <th>y</th>\n",
       "    </tr>\n",
       "  </thead>\n",
       "  <tbody>\n",
       "    <tr>\n",
       "      <td>4516</td>\n",
       "      <td>33</td>\n",
       "      <td>services</td>\n",
       "      <td>married</td>\n",
       "      <td>secondary</td>\n",
       "      <td>no</td>\n",
       "      <td>-333</td>\n",
       "      <td>yes</td>\n",
       "      <td>no</td>\n",
       "      <td>cellular</td>\n",
       "      <td>30</td>\n",
       "      <td>jul</td>\n",
       "      <td>329</td>\n",
       "      <td>5</td>\n",
       "      <td>-1</td>\n",
       "      <td>0</td>\n",
       "      <td>unknown</td>\n",
       "      <td>no</td>\n",
       "    </tr>\n",
       "    <tr>\n",
       "      <td>4517</td>\n",
       "      <td>57</td>\n",
       "      <td>self-employed</td>\n",
       "      <td>married</td>\n",
       "      <td>tertiary</td>\n",
       "      <td>yes</td>\n",
       "      <td>-3313</td>\n",
       "      <td>yes</td>\n",
       "      <td>yes</td>\n",
       "      <td>unknown</td>\n",
       "      <td>9</td>\n",
       "      <td>may</td>\n",
       "      <td>153</td>\n",
       "      <td>1</td>\n",
       "      <td>-1</td>\n",
       "      <td>0</td>\n",
       "      <td>unknown</td>\n",
       "      <td>no</td>\n",
       "    </tr>\n",
       "    <tr>\n",
       "      <td>4518</td>\n",
       "      <td>57</td>\n",
       "      <td>technician</td>\n",
       "      <td>married</td>\n",
       "      <td>secondary</td>\n",
       "      <td>no</td>\n",
       "      <td>295</td>\n",
       "      <td>no</td>\n",
       "      <td>no</td>\n",
       "      <td>cellular</td>\n",
       "      <td>19</td>\n",
       "      <td>aug</td>\n",
       "      <td>151</td>\n",
       "      <td>11</td>\n",
       "      <td>-1</td>\n",
       "      <td>0</td>\n",
       "      <td>unknown</td>\n",
       "      <td>no</td>\n",
       "    </tr>\n",
       "    <tr>\n",
       "      <td>4519</td>\n",
       "      <td>28</td>\n",
       "      <td>blue-collar</td>\n",
       "      <td>married</td>\n",
       "      <td>secondary</td>\n",
       "      <td>no</td>\n",
       "      <td>1137</td>\n",
       "      <td>no</td>\n",
       "      <td>no</td>\n",
       "      <td>cellular</td>\n",
       "      <td>6</td>\n",
       "      <td>feb</td>\n",
       "      <td>129</td>\n",
       "      <td>4</td>\n",
       "      <td>211</td>\n",
       "      <td>3</td>\n",
       "      <td>other</td>\n",
       "      <td>no</td>\n",
       "    </tr>\n",
       "    <tr>\n",
       "      <td>4520</td>\n",
       "      <td>44</td>\n",
       "      <td>entrepreneur</td>\n",
       "      <td>single</td>\n",
       "      <td>tertiary</td>\n",
       "      <td>no</td>\n",
       "      <td>1136</td>\n",
       "      <td>yes</td>\n",
       "      <td>yes</td>\n",
       "      <td>cellular</td>\n",
       "      <td>3</td>\n",
       "      <td>apr</td>\n",
       "      <td>345</td>\n",
       "      <td>2</td>\n",
       "      <td>249</td>\n",
       "      <td>7</td>\n",
       "      <td>other</td>\n",
       "      <td>no</td>\n",
       "    </tr>\n",
       "  </tbody>\n",
       "</table>\n",
       "</div>"
      ],
      "text/plain": [
       "      age            job  marital  education default  balance housing loan  \\\n",
       "4516   33       services  married  secondary      no     -333     yes   no   \n",
       "4517   57  self-employed  married   tertiary     yes    -3313     yes  yes   \n",
       "4518   57     technician  married  secondary      no      295      no   no   \n",
       "4519   28    blue-collar  married  secondary      no     1137      no   no   \n",
       "4520   44   entrepreneur   single   tertiary      no     1136     yes  yes   \n",
       "\n",
       "       contact  day month  duration  campaign  pdays  previous poutcome   y  \n",
       "4516  cellular   30   jul       329         5     -1         0  unknown  no  \n",
       "4517   unknown    9   may       153         1     -1         0  unknown  no  \n",
       "4518  cellular   19   aug       151        11     -1         0  unknown  no  \n",
       "4519  cellular    6   feb       129         4    211         3    other  no  \n",
       "4520  cellular    3   apr       345         2    249         7    other  no  "
      ]
     },
     "execution_count": 2,
     "metadata": {},
     "output_type": "execute_result"
    }
   ],
   "source": [
    "from sklearn import datasets\n",
    "\n",
    "df = pd.read_csv('bank.csv')\n",
    "df.tail()"
   ]
  },
  {
   "cell_type": "code",
   "execution_count": 3,
   "metadata": {},
   "outputs": [
    {
     "data": {
      "text/html": [
       "<div>\n",
       "<style scoped>\n",
       "    .dataframe tbody tr th:only-of-type {\n",
       "        vertical-align: middle;\n",
       "    }\n",
       "\n",
       "    .dataframe tbody tr th {\n",
       "        vertical-align: top;\n",
       "    }\n",
       "\n",
       "    .dataframe thead th {\n",
       "        text-align: right;\n",
       "    }\n",
       "</style>\n",
       "<table border=\"1\" class=\"dataframe\">\n",
       "  <thead>\n",
       "    <tr style=\"text-align: right;\">\n",
       "      <th></th>\n",
       "      <th>age</th>\n",
       "      <th>job</th>\n",
       "      <th>marital</th>\n",
       "      <th>education</th>\n",
       "      <th>default</th>\n",
       "      <th>balance</th>\n",
       "      <th>housing</th>\n",
       "      <th>loan</th>\n",
       "      <th>y</th>\n",
       "    </tr>\n",
       "  </thead>\n",
       "  <tbody>\n",
       "    <tr>\n",
       "      <td>4516</td>\n",
       "      <td>33</td>\n",
       "      <td>services</td>\n",
       "      <td>married</td>\n",
       "      <td>secondary</td>\n",
       "      <td>no</td>\n",
       "      <td>-333</td>\n",
       "      <td>yes</td>\n",
       "      <td>no</td>\n",
       "      <td>no</td>\n",
       "    </tr>\n",
       "    <tr>\n",
       "      <td>4517</td>\n",
       "      <td>57</td>\n",
       "      <td>self-employed</td>\n",
       "      <td>married</td>\n",
       "      <td>tertiary</td>\n",
       "      <td>yes</td>\n",
       "      <td>-3313</td>\n",
       "      <td>yes</td>\n",
       "      <td>yes</td>\n",
       "      <td>no</td>\n",
       "    </tr>\n",
       "    <tr>\n",
       "      <td>4518</td>\n",
       "      <td>57</td>\n",
       "      <td>technician</td>\n",
       "      <td>married</td>\n",
       "      <td>secondary</td>\n",
       "      <td>no</td>\n",
       "      <td>295</td>\n",
       "      <td>no</td>\n",
       "      <td>no</td>\n",
       "      <td>no</td>\n",
       "    </tr>\n",
       "    <tr>\n",
       "      <td>4519</td>\n",
       "      <td>28</td>\n",
       "      <td>blue-collar</td>\n",
       "      <td>married</td>\n",
       "      <td>secondary</td>\n",
       "      <td>no</td>\n",
       "      <td>1137</td>\n",
       "      <td>no</td>\n",
       "      <td>no</td>\n",
       "      <td>no</td>\n",
       "    </tr>\n",
       "    <tr>\n",
       "      <td>4520</td>\n",
       "      <td>44</td>\n",
       "      <td>entrepreneur</td>\n",
       "      <td>single</td>\n",
       "      <td>tertiary</td>\n",
       "      <td>no</td>\n",
       "      <td>1136</td>\n",
       "      <td>yes</td>\n",
       "      <td>yes</td>\n",
       "      <td>no</td>\n",
       "    </tr>\n",
       "  </tbody>\n",
       "</table>\n",
       "</div>"
      ],
      "text/plain": [
       "      age            job  marital  education default  balance housing loan   y\n",
       "4516   33       services  married  secondary      no     -333     yes   no  no\n",
       "4517   57  self-employed  married   tertiary     yes    -3313     yes  yes  no\n",
       "4518   57     technician  married  secondary      no      295      no   no  no\n",
       "4519   28    blue-collar  married  secondary      no     1137      no   no  no\n",
       "4520   44   entrepreneur   single   tertiary      no     1136     yes  yes  no"
      ]
     },
     "execution_count": 3,
     "metadata": {},
     "output_type": "execute_result"
    }
   ],
   "source": [
    "df = df.drop(columns=['contact', 'day', 'month', 'duration', 'campaign', 'pdays', 'previous' , 'poutcome'])\n",
    "df.tail()"
   ]
  },
  {
   "cell_type": "code",
   "execution_count": 4,
   "metadata": {},
   "outputs": [
    {
     "data": {
      "text/html": [
       "<div>\n",
       "<style scoped>\n",
       "    .dataframe tbody tr th:only-of-type {\n",
       "        vertical-align: middle;\n",
       "    }\n",
       "\n",
       "    .dataframe tbody tr th {\n",
       "        vertical-align: top;\n",
       "    }\n",
       "\n",
       "    .dataframe thead th {\n",
       "        text-align: right;\n",
       "    }\n",
       "</style>\n",
       "<table border=\"1\" class=\"dataframe\">\n",
       "  <thead>\n",
       "    <tr style=\"text-align: right;\">\n",
       "      <th></th>\n",
       "      <th>age</th>\n",
       "      <th>job</th>\n",
       "      <th>marital</th>\n",
       "      <th>education</th>\n",
       "      <th>default</th>\n",
       "      <th>balance</th>\n",
       "      <th>housing</th>\n",
       "      <th>loan</th>\n",
       "      <th>y</th>\n",
       "    </tr>\n",
       "  </thead>\n",
       "  <tbody>\n",
       "    <tr>\n",
       "      <td>0</td>\n",
       "      <td>1</td>\n",
       "      <td>0.0</td>\n",
       "      <td>2</td>\n",
       "      <td>1.0</td>\n",
       "      <td>0</td>\n",
       "      <td>1787</td>\n",
       "      <td>0</td>\n",
       "      <td>0</td>\n",
       "      <td>0</td>\n",
       "    </tr>\n",
       "    <tr>\n",
       "      <td>1</td>\n",
       "      <td>2</td>\n",
       "      <td>1.0</td>\n",
       "      <td>2</td>\n",
       "      <td>2.0</td>\n",
       "      <td>0</td>\n",
       "      <td>4789</td>\n",
       "      <td>1</td>\n",
       "      <td>1</td>\n",
       "      <td>0</td>\n",
       "    </tr>\n",
       "    <tr>\n",
       "      <td>2</td>\n",
       "      <td>2</td>\n",
       "      <td>1.0</td>\n",
       "      <td>1</td>\n",
       "      <td>3.0</td>\n",
       "      <td>0</td>\n",
       "      <td>1350</td>\n",
       "      <td>1</td>\n",
       "      <td>0</td>\n",
       "      <td>0</td>\n",
       "    </tr>\n",
       "    <tr>\n",
       "      <td>3</td>\n",
       "      <td>1</td>\n",
       "      <td>1.0</td>\n",
       "      <td>2</td>\n",
       "      <td>3.0</td>\n",
       "      <td>0</td>\n",
       "      <td>1476</td>\n",
       "      <td>1</td>\n",
       "      <td>1</td>\n",
       "      <td>0</td>\n",
       "    </tr>\n",
       "    <tr>\n",
       "      <td>4</td>\n",
       "      <td>4</td>\n",
       "      <td>1.0</td>\n",
       "      <td>2</td>\n",
       "      <td>2.0</td>\n",
       "      <td>0</td>\n",
       "      <td>0</td>\n",
       "      <td>1</td>\n",
       "      <td>0</td>\n",
       "      <td>0</td>\n",
       "    </tr>\n",
       "  </tbody>\n",
       "</table>\n",
       "</div>"
      ],
      "text/plain": [
       "   age  job  marital  education  default  balance  housing  loan  y\n",
       "0    1  0.0        2        1.0        0     1787        0     0  0\n",
       "1    2  1.0        2        2.0        0     4789        1     1  0\n",
       "2    2  1.0        1        3.0        0     1350        1     0  0\n",
       "3    1  1.0        2        3.0        0     1476        1     1  0\n",
       "4    4  1.0        2        2.0        0        0        1     0  0"
      ]
     },
     "execution_count": 4,
     "metadata": {},
     "output_type": "execute_result"
    }
   ],
   "source": [
    "dict = {\n",
    "    'no': 0,\n",
    "    'yes': 1\n",
    "}\n",
    "\n",
    "dict_edu = {\n",
    "    'primary': 1,\n",
    "    'secondary':2,\n",
    "    'tertiary':3\n",
    "}\n",
    "\n",
    "dict_married = {\n",
    "    'single': 1,\n",
    "    'married': 2,\n",
    "    'divorced': 3\n",
    "}\n",
    "\n",
    "dict_job = {\n",
    "    'admin.': 1,\n",
    "    'unemployed': 0,\n",
    "    'management': 1,\n",
    "    'housemaid': 1,\n",
    "    'entrepreneur':1,\n",
    "    \"student\": 0,\n",
    "    \"blue-collar\": 1,\n",
    "    \"self-employed\": 1,\n",
    "    \"retired\": 0,\n",
    "    \"technician\":1,\n",
    "    \"services\":1\n",
    "}\n",
    "\n",
    "\n",
    "df['y'] = df['y'].map(dict)\n",
    "df['default'] = df['default'].map(dict)\n",
    "df['housing'] = df['housing'].map(dict)\n",
    "df['loan'] = df['loan'].map(dict)\n",
    "\n",
    "df['marital'] = df['marital'].map(dict_married)\n",
    "\n",
    "df['education'] = df['education'].map(dict_edu)\n",
    "\n",
    "df['job'] = df['job'].map(dict_job)\n",
    "\n",
    "#drop NaN columns\n",
    "df = df.dropna()\n",
    "\n",
    "train_data=[df]\n",
    "for dataset in train_data:\n",
    "    dataset.loc[ dataset['age'] <= 22,'age'] = 0,\n",
    "    dataset.loc[(dataset['age'] >  22) & (dataset['age'] <= 30),'age'] = 1,\n",
    "    dataset.loc[(dataset['age'] > 30) & (dataset['age'] <= 40),'age'] = 2,\n",
    "    dataset.loc[(dataset['age'] > 40 ) & (dataset['age'] <= 50),'age'] = 3,\n",
    "    dataset.loc[(dataset['age'] > 50 ) & (dataset['age'] <= 60),'age'] = 4,\n",
    "    dataset.loc[(dataset['age'] > 60 ) & (dataset['age'] <= 70),'age'] = 5,\n",
    "    dataset.loc[ dataset['age'] > 70,'age'] = 6\n",
    "\n",
    "df.head()"
   ]
  },
  {
   "cell_type": "code",
   "execution_count": 5,
   "metadata": {},
   "outputs": [
    {
     "data": {
      "text/html": [
       "<div>\n",
       "<style scoped>\n",
       "    .dataframe tbody tr th:only-of-type {\n",
       "        vertical-align: middle;\n",
       "    }\n",
       "\n",
       "    .dataframe tbody tr th {\n",
       "        vertical-align: top;\n",
       "    }\n",
       "\n",
       "    .dataframe thead th {\n",
       "        text-align: right;\n",
       "    }\n",
       "</style>\n",
       "<table border=\"1\" class=\"dataframe\">\n",
       "  <thead>\n",
       "    <tr style=\"text-align: right;\">\n",
       "      <th></th>\n",
       "      <th>age</th>\n",
       "      <th>job</th>\n",
       "      <th>marital</th>\n",
       "      <th>education</th>\n",
       "      <th>default</th>\n",
       "      <th>balance</th>\n",
       "      <th>housing</th>\n",
       "      <th>loan</th>\n",
       "      <th>y</th>\n",
       "    </tr>\n",
       "  </thead>\n",
       "  <tbody>\n",
       "    <tr>\n",
       "      <td>4306</td>\n",
       "      <td>6</td>\n",
       "      <td>0.0</td>\n",
       "      <td>2</td>\n",
       "      <td>3.0</td>\n",
       "      <td>0</td>\n",
       "      <td>14220</td>\n",
       "      <td>1</td>\n",
       "      <td>0</td>\n",
       "      <td>1</td>\n",
       "    </tr>\n",
       "    <tr>\n",
       "      <td>4307</td>\n",
       "      <td>2</td>\n",
       "      <td>1.0</td>\n",
       "      <td>1</td>\n",
       "      <td>3.0</td>\n",
       "      <td>0</td>\n",
       "      <td>12569</td>\n",
       "      <td>0</td>\n",
       "      <td>0</td>\n",
       "      <td>1</td>\n",
       "    </tr>\n",
       "    <tr>\n",
       "      <td>4308</td>\n",
       "      <td>3</td>\n",
       "      <td>1.0</td>\n",
       "      <td>3</td>\n",
       "      <td>3.0</td>\n",
       "      <td>0</td>\n",
       "      <td>755</td>\n",
       "      <td>0</td>\n",
       "      <td>0</td>\n",
       "      <td>1</td>\n",
       "    </tr>\n",
       "    <tr>\n",
       "      <td>4309</td>\n",
       "      <td>2</td>\n",
       "      <td>1.0</td>\n",
       "      <td>2</td>\n",
       "      <td>3.0</td>\n",
       "      <td>0</td>\n",
       "      <td>5355</td>\n",
       "      <td>0</td>\n",
       "      <td>0</td>\n",
       "      <td>1</td>\n",
       "    </tr>\n",
       "    <tr>\n",
       "      <td>4310</td>\n",
       "      <td>2</td>\n",
       "      <td>1.0</td>\n",
       "      <td>2</td>\n",
       "      <td>3.0</td>\n",
       "      <td>0</td>\n",
       "      <td>1265</td>\n",
       "      <td>1</td>\n",
       "      <td>0</td>\n",
       "      <td>1</td>\n",
       "    </tr>\n",
       "  </tbody>\n",
       "</table>\n",
       "</div>"
      ],
      "text/plain": [
       "      age  job  marital  education  default  balance  housing  loan  y\n",
       "4306    6  0.0        2        3.0        0    14220        1     0  1\n",
       "4307    2  1.0        1        3.0        0    12569        0     0  1\n",
       "4308    3  1.0        3        3.0        0      755        0     0  1\n",
       "4309    2  1.0        2        3.0        0     5355        0     0  1\n",
       "4310    2  1.0        2        3.0        0     1265        1     0  1"
      ]
     },
     "execution_count": 5,
     "metadata": {},
     "output_type": "execute_result"
    }
   ],
   "source": [
    "#Need to sort the values according to independent variable in order to calculate accuracy\n",
    "df.sort_values(by=['y'], inplace=True)\n",
    "df = df.reset_index(drop=True)\n",
    "df.tail()"
   ]
  },
  {
   "cell_type": "code",
   "execution_count": 6,
   "metadata": {},
   "outputs": [],
   "source": [
    "def generate_dendogram(Z, max_d=0, P=150):\n",
    "    plt.figure(figsize=(25, 10))\n",
    "    plt.title('Dendogram')\n",
    "    plt.xlabel('Outcome')\n",
    "    plt.ylabel('Distance')\n",
    "    dendrogram(\n",
    "        Z,\n",
    "        truncate_mode='lastp',  # show only the last p merged clusters\n",
    "        p=P,                  \n",
    "        leaf_rotation=90.,       \n",
    "        leaf_font_size=8.,     \n",
    "    )\n",
    "    plt.axhline(y=max_d, c='k')\n",
    "    plt.show()"
   ]
  },
  {
   "cell_type": "code",
   "execution_count": 7,
   "metadata": {},
   "outputs": [
    {
     "name": "stdout",
     "output_type": "stream",
     "text": [
      "[[ 1.000e+00  0.000e+00  2.000e+00  1.000e+00  0.000e+00  1.787e+03\n",
      "   0.000e+00  0.000e+00]\n",
      " [ 4.000e+00  1.000e+00  2.000e+00  2.000e+00  0.000e+00  9.600e+01\n",
      "   0.000e+00  0.000e+00]\n",
      " [ 2.000e+00  1.000e+00  2.000e+00  3.000e+00  0.000e+00 -2.760e+02\n",
      "   0.000e+00  1.000e+00]\n",
      " [ 4.000e+00  0.000e+00  2.000e+00  2.000e+00  0.000e+00  4.130e+02\n",
      "   0.000e+00  0.000e+00]\n",
      " [ 2.000e+00  1.000e+00  2.000e+00  1.000e+00  0.000e+00  6.550e+02\n",
      "   1.000e+00  0.000e+00]]\n"
     ]
    },
    {
     "data": {
      "image/png": "[encoded data removed]",
      "text/plain": [
       "<Figure size 1800x720 with 1 Axes>"
      ]
     },
     "metadata": {
      "needs_background": "light"
     },
     "output_type": "display_data"
    }
   ],
   "source": [
    "import time\n",
    "\n",
    "x = df.loc[:, df.columns != 'y']\n",
    "x = x.to_numpy()\n",
    "print(x[0:5])\n",
    "\n",
    "Z = linkage(x, 'ward')\n",
    "\n",
    "generate_dendogram(Z)\n"
   ]
  },
  {
   "cell_type": "code",
   "execution_count": 8,
   "metadata": {},
   "outputs": [
    {
     "data": {
      "image/png": "[encoded data removed]",
      "text/plain": [
       "<Figure size 1800x720 with 1 Axes>"
      ]
     },
     "metadata": {
      "needs_background": "light"
     },
     "output_type": "display_data"
    }
   ],
   "source": [
    "generate_dendogram(Z, max_d = 140000, P=30)"
   ]
  },
  {
   "cell_type": "markdown",
   "metadata": {},
   "source": [
    "## Calculate the accuracy before PCA"
   ]
  },
  {
   "cell_type": "code",
   "execution_count": 9,
   "metadata": {},
   "outputs": [],
   "source": [
    "#have a df with 1 column representing the actual category, and another column representing the predicted category\n",
    "\n",
    "def generate_accuracy_table(y_pred):\n",
    "    accuracy_table = pd.DataFrame(df['y'].to_numpy(), columns=['actual'])\n",
    "    import copy\n",
    "    y_pred2 = copy.deepcopy(y_pred)\n",
    "    accuracy_table['predicted'] = y_pred2\n",
    "    accuracy_table.head()\n",
    "    return accuracy_table\n"
   ]
  },
  {
   "cell_type": "code",
   "execution_count": 10,
   "metadata": {},
   "outputs": [],
   "source": [
    "#note that you do not know whether the 0 and 1 category for y_kmeans is equivalent to how we interpret 0 and 1. \n",
    "#We have have interpreted 0 as 'no' but the algorithim might interpret 0 as 'yes'\n",
    "\n",
    "#thus, need to double check that algorithm and us are on the same page as to the interpretation of '0'\n",
    "#let's just use the 1st 100 rows\n",
    "\n",
    "def preview_distinct_values(accuracy_table):\n",
    "    col_actual_sample = accuracy_table.iloc[0:100, 0]\n",
    "    count_distinct_actual = col_actual_sample.value_counts()\n",
    "    print(\"---actual---\")\n",
    "    print(count_distinct_actual)\n",
    "\n",
    "    col_predicted_sample = accuracy_table.iloc[0:100, 1]\n",
    "    count_distinct_predicted = col_predicted_sample.value_counts()\n",
    "    print(\"---predicted---\")\n",
    "    print(count_distinct_predicted)"
   ]
  },
  {
   "cell_type": "code",
   "execution_count": 11,
   "metadata": {},
   "outputs": [],
   "source": [
    "#calculate the accuracy for each category, with reference to the accuracy table\n",
    "\n",
    "def calculate_accuracy_for_2_categories(accuracy_table):\n",
    "    row_index = df['y'].idxmax(axis=1)\n",
    "    predicted_cat0 = accuracy_table.loc[0 : row_index, 'predicted']\n",
    "    predicted_cat1 = accuracy_table.loc[row_index : , 'predicted']\n",
    "    \n",
    "    from statistics import mean \n",
    "    total_accuracy = []\n",
    "    \n",
    "    for cat in [predicted_cat0, predicted_cat1]:\n",
    "        count_distinct_predicted_cat = cat.value_counts()\n",
    "        print(count_distinct_predicted_cat)\n",
    "            #get the maximum occurence\n",
    "        cat_max = count_distinct_predicted_cat.max()\n",
    "        cat_accuracy = cat_max / count_distinct_predicted_cat.sum()\n",
    "        print(\"category accuracy\", cat_accuracy)\n",
    "        total_accuracy.append(cat_accuracy)\n",
    "        print()\n",
    "    print('total accuracy:', mean(total_accuracy))"
   ]
  },
  {
   "cell_type": "code",
   "execution_count": 12,
   "metadata": {},
   "outputs": [
    {
     "name": "stdout",
     "output_type": "stream",
     "text": [
      "time taken 0.7677192687988281\n",
      "---actual---\n",
      "0    100\n",
      "Name: actual, dtype: int64\n",
      "---predicted---\n",
      "0    96\n",
      "1     4\n",
      "Name: predicted, dtype: int64\n",
      "\n",
      "0    3735\n",
      "1      79\n",
      "Name: predicted, dtype: int64\n",
      "category accuracy 0.9792868379653906\n",
      "\n",
      "0    493\n",
      "1      5\n",
      "Name: predicted, dtype: int64\n",
      "category accuracy 0.9899598393574297\n",
      "\n",
      "total accuracy: 0.9846233386614102\n"
     ]
    }
   ],
   "source": [
    "from sklearn.cluster import AgglomerativeClustering\n",
    "\n",
    "clustering = AgglomerativeClustering(linkage=\"ward\", n_clusters=2)\n",
    "\n",
    "#Calculate time\n",
    "start = time.time()\n",
    "y_pred = clustering.fit_predict(x)\n",
    "end= time.time()\n",
    "speed = end - start\n",
    "print(\"time taken\", speed)\n",
    "\n",
    "accuracy_table = generate_accuracy_table(y_pred)\n",
    "preview_distinct_values(accuracy_table)\n",
    "print()\n",
    "calculate_accuracy_for_2_categories(accuracy_table)"
   ]
  },
  {
   "cell_type": "markdown",
   "metadata": {},
   "source": [
    "## Scatter plots before PCA"
   ]
  },
  {
   "cell_type": "code",
   "execution_count": 13,
   "metadata": {},
   "outputs": [],
   "source": [
    "def plot_scatter(x, y_col, x_col_N, x_col_M, num_clusters):\n",
    "    label_encoder = preprocessing.LabelEncoder() \n",
    "    y_col = label_encoder.fit_transform(y_col)\n",
    "    print(np.unique(y_col))\n",
    "    \n",
    "    clustering = AgglomerativeClustering(linkage=\"ward\", n_clusters=num_clusters)\n",
    "    clustering.fit(x);\n",
    "       \n",
    "    \n",
    "    X_plot = preprocessing.MinMaxScaler().fit_transform(x)  \n",
    "    \n",
    "    print(X_plot.shape)\n",
    "    num_rows = X_plot.shape[0]\n",
    "\n",
    "    colours = 'bgrcmykw'\n",
    "    \n",
    "    for i in range(num_rows):\n",
    "        plt.text(X_plot[i, x_col_N], X_plot[i, x_col_M], str(clustering.labels_[i]),\n",
    "                 color=colours[y_col[i]],\n",
    "                 fontdict={'weight': 'bold', 'size': 9}\n",
    "            )\n",
    "\n",
    "    plt.show()"
   ]
  },
  {
   "cell_type": "code",
   "execution_count": 14,
   "metadata": {},
   "outputs": [
    {
     "name": "stdout",
     "output_type": "stream",
     "text": [
      "[0 1]\n",
      "(4311, 8)\n"
     ]
    },
    {
     "data": {
      "image/png": "[encoded data removed]",
      "text/plain": [
       "<Figure size 432x288 with 1 Axes>"
      ]
     },
     "metadata": {
      "needs_background": "light"
     },
     "output_type": "display_data"
    }
   ],
   "source": [
    "plot_scatter(x, \n",
    "            y_col = df['y'],\n",
    "            x_col_N = 0,\n",
    "            x_col_M = 1,\n",
    "            num_clusters=2) #since there are only 2 clusters"
   ]
  },
  {
   "cell_type": "code",
   "execution_count": 15,
   "metadata": {},
   "outputs": [
    {
     "name": "stdout",
     "output_type": "stream",
     "text": [
      "[0 1]\n",
      "(4311, 8)\n"
     ]
    },
    {
     "data": {
      "image/png": "[encoded data removed]",
      "text/plain": [
       "<Figure size 432x288 with 1 Axes>"
      ]
     },
     "metadata": {
      "needs_background": "light"
     },
     "output_type": "display_data"
    },
    {
     "name": "stdout",
     "output_type": "stream",
     "text": [
      "[0 1]\n",
      "(4311, 8)\n"
     ]
    },
    {
     "data": {
      "image/png": "[encoded data removed]",
      "text/plain": [
       "<Figure size 432x288 with 1 Axes>"
      ]
     },
     "metadata": {
      "needs_background": "light"
     },
     "output_type": "display_data"
    },
    {
     "name": "stdout",
     "output_type": "stream",
     "text": [
      "[0 1]\n",
      "(4311, 8)\n"
     ]
    },
    {
     "data": {
      "image/png": "[encoded data removed]",
      "text/plain": [
       "<Figure size 432x288 with 1 Axes>"
      ]
     },
     "metadata": {
      "needs_background": "light"
     },
     "output_type": "display_data"
    },
    {
     "name": "stdout",
     "output_type": "stream",
     "text": [
      "[0 1]\n",
      "(4311, 8)\n"
     ]
    },
    {
     "data": {
      "image/png": "[encoded data removed]",
      "text/plain": [
       "<Figure size 432x288 with 1 Axes>"
      ]
     },
     "metadata": {
      "needs_background": "light"
     },
     "output_type": "display_data"
    },
    {
     "name": "stdout",
     "output_type": "stream",
     "text": [
      "[0 1]\n",
      "(4311, 8)\n"
     ]
    },
    {
     "data": {
      "image/png": "[encoded data removed]",
      "text/plain": [
       "<Figure size 432x288 with 1 Axes>"
      ]
     },
     "metadata": {
      "needs_background": "light"
     },
     "output_type": "display_data"
    },
    {
     "name": "stdout",
     "output_type": "stream",
     "text": [
      "[0 1]\n",
      "(4311, 8)\n"
     ]
    },
    {
     "data": {
      "image/png": "[encoded data removed]",
      "text/plain": [
       "<Figure size 432x288 with 1 Axes>"
      ]
     },
     "metadata": {
      "needs_background": "light"
     },
     "output_type": "display_data"
    },
    {
     "name": "stdout",
     "output_type": "stream",
     "text": [
      "[0 1]\n",
      "(4311, 8)\n"
     ]
    },
    {
     "data": {
      "image/png": "[encoded data removed]",
      "text/plain": [
       "<Figure size 432x288 with 1 Axes>"
      ]
     },
     "metadata": {
      "needs_background": "light"
     },
     "output_type": "display_data"
    }
   ],
   "source": [
    "for i in range(1, len(df.columns) - 1):\n",
    "    plot_scatter(x, \n",
    "            y_col = df['y'],\n",
    "            x_col_N = i-1,\n",
    "            x_col_M = i,\n",
    "            num_clusters=2)\n",
    "    \n",
    "#only when i is 1, does the scatter plot make sense"
   ]
  },
  {
   "cell_type": "code",
   "execution_count": 16,
   "metadata": {},
   "outputs": [
    {
     "data": {
      "text/html": [
       "<div>\n",
       "<style scoped>\n",
       "    .dataframe tbody tr th:only-of-type {\n",
       "        vertical-align: middle;\n",
       "    }\n",
       "\n",
       "    .dataframe tbody tr th {\n",
       "        vertical-align: top;\n",
       "    }\n",
       "\n",
       "    .dataframe thead th {\n",
       "        text-align: right;\n",
       "    }\n",
       "</style>\n",
       "<table border=\"1\" class=\"dataframe\">\n",
       "  <thead>\n",
       "    <tr style=\"text-align: right;\">\n",
       "      <th></th>\n",
       "      <th>age</th>\n",
       "      <th>job</th>\n",
       "      <th>marital</th>\n",
       "      <th>education</th>\n",
       "      <th>default</th>\n",
       "      <th>balance</th>\n",
       "      <th>housing</th>\n",
       "      <th>loan</th>\n",
       "      <th>y</th>\n",
       "    </tr>\n",
       "  </thead>\n",
       "  <tbody>\n",
       "    <tr>\n",
       "      <td>age</td>\n",
       "      <td>1.000000</td>\n",
       "      <td>-0.237660</td>\n",
       "      <td>0.383846</td>\n",
       "      <td>-0.184876</td>\n",
       "      <td>-0.014700</td>\n",
       "      <td>0.083115</td>\n",
       "      <td>-0.177020</td>\n",
       "      <td>0.002971</td>\n",
       "      <td>0.035950</td>\n",
       "    </tr>\n",
       "    <tr>\n",
       "      <td>job</td>\n",
       "      <td>-0.237660</td>\n",
       "      <td>1.000000</td>\n",
       "      <td>-0.027628</td>\n",
       "      <td>0.106736</td>\n",
       "      <td>-0.000351</td>\n",
       "      <td>-0.044722</td>\n",
       "      <td>0.181315</td>\n",
       "      <td>0.041051</td>\n",
       "      <td>-0.088157</td>\n",
       "    </tr>\n",
       "    <tr>\n",
       "      <td>marital</td>\n",
       "      <td>0.383846</td>\n",
       "      <td>-0.027628</td>\n",
       "      <td>1.000000</td>\n",
       "      <td>-0.125068</td>\n",
       "      <td>0.017544</td>\n",
       "      <td>-0.026157</td>\n",
       "      <td>0.025026</td>\n",
       "      <td>0.048237</td>\n",
       "      <td>-0.019296</td>\n",
       "    </tr>\n",
       "    <tr>\n",
       "      <td>education</td>\n",
       "      <td>-0.184876</td>\n",
       "      <td>0.106736</td>\n",
       "      <td>-0.125068</td>\n",
       "      <td>1.000000</td>\n",
       "      <td>-0.011787</td>\n",
       "      <td>0.055009</td>\n",
       "      <td>-0.073486</td>\n",
       "      <td>-0.024163</td>\n",
       "      <td>0.057245</td>\n",
       "    </tr>\n",
       "    <tr>\n",
       "      <td>default</td>\n",
       "      <td>-0.014700</td>\n",
       "      <td>-0.000351</td>\n",
       "      <td>0.017544</td>\n",
       "      <td>-0.011787</td>\n",
       "      <td>1.000000</td>\n",
       "      <td>-0.070011</td>\n",
       "      <td>0.003962</td>\n",
       "      <td>0.061224</td>\n",
       "      <td>-0.002435</td>\n",
       "    </tr>\n",
       "    <tr>\n",
       "      <td>balance</td>\n",
       "      <td>0.083115</td>\n",
       "      <td>-0.044722</td>\n",
       "      <td>-0.026157</td>\n",
       "      <td>0.055009</td>\n",
       "      <td>-0.070011</td>\n",
       "      <td>1.000000</td>\n",
       "      <td>-0.051041</td>\n",
       "      <td>-0.075818</td>\n",
       "      <td>0.016368</td>\n",
       "    </tr>\n",
       "    <tr>\n",
       "      <td>housing</td>\n",
       "      <td>-0.177020</td>\n",
       "      <td>0.181315</td>\n",
       "      <td>0.025026</td>\n",
       "      <td>-0.073486</td>\n",
       "      <td>0.003962</td>\n",
       "      <td>-0.051041</td>\n",
       "      <td>1.000000</td>\n",
       "      <td>0.013979</td>\n",
       "      <td>-0.105532</td>\n",
       "    </tr>\n",
       "    <tr>\n",
       "      <td>loan</td>\n",
       "      <td>0.002971</td>\n",
       "      <td>0.041051</td>\n",
       "      <td>0.048237</td>\n",
       "      <td>-0.024163</td>\n",
       "      <td>0.061224</td>\n",
       "      <td>-0.075818</td>\n",
       "      <td>0.013979</td>\n",
       "      <td>1.000000</td>\n",
       "      <td>-0.073333</td>\n",
       "    </tr>\n",
       "    <tr>\n",
       "      <td>y</td>\n",
       "      <td>0.035950</td>\n",
       "      <td>-0.088157</td>\n",
       "      <td>-0.019296</td>\n",
       "      <td>0.057245</td>\n",
       "      <td>-0.002435</td>\n",
       "      <td>0.016368</td>\n",
       "      <td>-0.105532</td>\n",
       "      <td>-0.073333</td>\n",
       "      <td>1.000000</td>\n",
       "    </tr>\n",
       "  </tbody>\n",
       "</table>\n",
       "</div>"
      ],
      "text/plain": [
       "                age       job   marital  education   default   balance  \\\n",
       "age        1.000000 -0.237660  0.383846  -0.184876 -0.014700  0.083115   \n",
       "job       -0.237660  1.000000 -0.027628   0.106736 -0.000351 -0.044722   \n",
       "marital    0.383846 -0.027628  1.000000  -0.125068  0.017544 -0.026157   \n",
       "education -0.184876  0.106736 -0.125068   1.000000 -0.011787  0.055009   \n",
       "default   -0.014700 -0.000351  0.017544  -0.011787  1.000000 -0.070011   \n",
       "balance    0.083115 -0.044722 -0.026157   0.055009 -0.070011  1.000000   \n",
       "housing   -0.177020  0.181315  0.025026  -0.073486  0.003962 -0.051041   \n",
       "loan       0.002971  0.041051  0.048237  -0.024163  0.061224 -0.075818   \n",
       "y          0.035950 -0.088157 -0.019296   0.057245 -0.002435  0.016368   \n",
       "\n",
       "            housing      loan         y  \n",
       "age       -0.177020  0.002971  0.035950  \n",
       "job        0.181315  0.041051 -0.088157  \n",
       "marital    0.025026  0.048237 -0.019296  \n",
       "education -0.073486 -0.024163  0.057245  \n",
       "default    0.003962  0.061224 -0.002435  \n",
       "balance   -0.051041 -0.075818  0.016368  \n",
       "housing    1.000000  0.013979 -0.105532  \n",
       "loan       0.013979  1.000000 -0.073333  \n",
       "y         -0.105532 -0.073333  1.000000  "
      ]
     },
     "execution_count": 16,
     "metadata": {},
     "output_type": "execute_result"
    }
   ],
   "source": [
    "df.corr()"
   ]
  },
  {
   "cell_type": "code",
   "execution_count": 17,
   "metadata": {},
   "outputs": [],
   "source": [
    "def generate_newDf_with_PCA(num_cols, x):\n",
    "    pca = PCA(n_components = num_cols)\n",
    "    from sklearn.preprocessing import StandardScaler\n",
    "\n",
    "    x = StandardScaler().fit_transform(x)\n",
    "    principalComponents = pca.fit_transform(x)\n",
    "    \n",
    "    column_names = []\n",
    "    for i in range(num_cols):\n",
    "        name = 'pc ' + str(i)\n",
    "        column_names.append(name)\n",
    "    \n",
    "    principalDf = pd.DataFrame(data = principalComponents\n",
    "                 , columns = column_names)\n",
    "    principalDf.head()\n",
    "    finalDf = pd.concat([principalDf, df[['y']]], axis = 1)\n",
    "    finalDf.head(5)\n",
    "    print(pca.explained_variance_ratio_)\n",
    "    print(pca.explained_variance_ratio_.sum())\n",
    "    return finalDf\n",
    "\n"
   ]
  },
  {
   "cell_type": "code",
   "execution_count": 18,
   "metadata": {},
   "outputs": [
    {
     "name": "stdout",
     "output_type": "stream",
     "text": [
      "[0.20138465 0.15586271 0.13344624 0.12199225]\n",
      "0.6126858457498991\n",
      "          pc 0      pc 1      pc 2      pc 3\n",
      "0     1.325828  1.055645 -0.816110 -2.355560\n",
      "1     1.209662  0.278829 -0.196454  0.120828\n",
      "2    -0.492116 -0.304181 -1.710125  1.911574\n",
      "3     2.627317  1.346726 -1.077820 -1.236611\n",
      "4    -0.027645 -1.105560  1.035690 -1.210348\n",
      "...        ...       ...       ...       ...\n",
      "4306  3.246192  3.011499  1.219514  1.213438\n",
      "4307 -0.930171  3.312258  0.355239  1.474710\n",
      "4308  0.923794  0.330816 -0.100573  1.472600\n",
      "4309 -0.347652  1.625084 -0.040876  1.246886\n",
      "4310 -0.992051  0.037566  0.522707  0.504806\n",
      "\n",
      "[4311 rows x 4 columns]\n"
     ]
    }
   ],
   "source": [
    "finalDf = generate_newDf_with_PCA(4, x)\n",
    "finalDf = finalDf.dropna()\n",
    "final_x = finalDf.loc[:, finalDf.columns != 'y']\n",
    "print(final_x)\n",
    "\n"
   ]
  },
  {
   "cell_type": "code",
   "execution_count": 19,
   "metadata": {},
   "outputs": [
    {
     "data": {
      "text/html": [
       "<div>\n",
       "<style scoped>\n",
       "    .dataframe tbody tr th:only-of-type {\n",
       "        vertical-align: middle;\n",
       "    }\n",
       "\n",
       "    .dataframe tbody tr th {\n",
       "        vertical-align: top;\n",
       "    }\n",
       "\n",
       "    .dataframe thead th {\n",
       "        text-align: right;\n",
       "    }\n",
       "</style>\n",
       "<table border=\"1\" class=\"dataframe\">\n",
       "  <thead>\n",
       "    <tr style=\"text-align: right;\">\n",
       "      <th></th>\n",
       "      <th>pc 0</th>\n",
       "      <th>pc 1</th>\n",
       "      <th>pc 2</th>\n",
       "      <th>pc 3</th>\n",
       "      <th>y</th>\n",
       "    </tr>\n",
       "  </thead>\n",
       "  <tbody>\n",
       "    <tr>\n",
       "      <td>0</td>\n",
       "      <td>1.325828</td>\n",
       "      <td>1.055645</td>\n",
       "      <td>-0.816110</td>\n",
       "      <td>-2.355560</td>\n",
       "      <td>0</td>\n",
       "    </tr>\n",
       "    <tr>\n",
       "      <td>1</td>\n",
       "      <td>1.209662</td>\n",
       "      <td>0.278829</td>\n",
       "      <td>-0.196454</td>\n",
       "      <td>0.120828</td>\n",
       "      <td>0</td>\n",
       "    </tr>\n",
       "    <tr>\n",
       "      <td>2</td>\n",
       "      <td>-0.492116</td>\n",
       "      <td>-0.304181</td>\n",
       "      <td>-1.710125</td>\n",
       "      <td>1.911574</td>\n",
       "      <td>0</td>\n",
       "    </tr>\n",
       "    <tr>\n",
       "      <td>3</td>\n",
       "      <td>2.627317</td>\n",
       "      <td>1.346726</td>\n",
       "      <td>-1.077820</td>\n",
       "      <td>-1.236611</td>\n",
       "      <td>0</td>\n",
       "    </tr>\n",
       "    <tr>\n",
       "      <td>4</td>\n",
       "      <td>-0.027645</td>\n",
       "      <td>-1.105560</td>\n",
       "      <td>1.035690</td>\n",
       "      <td>-1.210348</td>\n",
       "      <td>0</td>\n",
       "    </tr>\n",
       "    <tr>\n",
       "      <td>...</td>\n",
       "      <td>...</td>\n",
       "      <td>...</td>\n",
       "      <td>...</td>\n",
       "      <td>...</td>\n",
       "      <td>...</td>\n",
       "    </tr>\n",
       "    <tr>\n",
       "      <td>4306</td>\n",
       "      <td>3.246192</td>\n",
       "      <td>3.011499</td>\n",
       "      <td>1.219514</td>\n",
       "      <td>1.213438</td>\n",
       "      <td>1</td>\n",
       "    </tr>\n",
       "    <tr>\n",
       "      <td>4307</td>\n",
       "      <td>-0.930171</td>\n",
       "      <td>3.312258</td>\n",
       "      <td>0.355239</td>\n",
       "      <td>1.474710</td>\n",
       "      <td>1</td>\n",
       "    </tr>\n",
       "    <tr>\n",
       "      <td>4308</td>\n",
       "      <td>0.923794</td>\n",
       "      <td>0.330816</td>\n",
       "      <td>-0.100573</td>\n",
       "      <td>1.472600</td>\n",
       "      <td>1</td>\n",
       "    </tr>\n",
       "    <tr>\n",
       "      <td>4309</td>\n",
       "      <td>-0.347652</td>\n",
       "      <td>1.625084</td>\n",
       "      <td>-0.040876</td>\n",
       "      <td>1.246886</td>\n",
       "      <td>1</td>\n",
       "    </tr>\n",
       "    <tr>\n",
       "      <td>4310</td>\n",
       "      <td>-0.992051</td>\n",
       "      <td>0.037566</td>\n",
       "      <td>0.522707</td>\n",
       "      <td>0.504806</td>\n",
       "      <td>1</td>\n",
       "    </tr>\n",
       "  </tbody>\n",
       "</table>\n",
       "<p>4311 rows × 5 columns</p>\n",
       "</div>"
      ],
      "text/plain": [
       "          pc 0      pc 1      pc 2      pc 3  y\n",
       "0     1.325828  1.055645 -0.816110 -2.355560  0\n",
       "1     1.209662  0.278829 -0.196454  0.120828  0\n",
       "2    -0.492116 -0.304181 -1.710125  1.911574  0\n",
       "3     2.627317  1.346726 -1.077820 -1.236611  0\n",
       "4    -0.027645 -1.105560  1.035690 -1.210348  0\n",
       "...        ...       ...       ...       ... ..\n",
       "4306  3.246192  3.011499  1.219514  1.213438  1\n",
       "4307 -0.930171  3.312258  0.355239  1.474710  1\n",
       "4308  0.923794  0.330816 -0.100573  1.472600  1\n",
       "4309 -0.347652  1.625084 -0.040876  1.246886  1\n",
       "4310 -0.992051  0.037566  0.522707  0.504806  1\n",
       "\n",
       "[4311 rows x 5 columns]"
      ]
     },
     "execution_count": 19,
     "metadata": {},
     "output_type": "execute_result"
    }
   ],
   "source": [
    "finalDf"
   ]
  },
  {
   "cell_type": "code",
   "execution_count": 20,
   "metadata": {},
   "outputs": [
    {
     "data": {
      "image/png": "[encoded data removed]",
      "text/plain": [
       "<Figure size 1800x720 with 1 Axes>"
      ]
     },
     "metadata": {
      "needs_background": "light"
     },
     "output_type": "display_data"
    },
    {
     "name": "stdout",
     "output_type": "stream",
     "text": [
      "time taken 0.7243332862854004\n"
     ]
    }
   ],
   "source": [
    "Z = linkage(final_x, 'ward')\n",
    "\n",
    "\n",
    "start = time.time()\n",
    "generate_dendogram(Z, max_d = 80, P=30)\n",
    "end= time.time()\n",
    "speed = end - start\n",
    "print(\"time taken\", speed)\n",
    "\n"
   ]
  },
  {
   "cell_type": "markdown",
   "metadata": {},
   "source": [
    "## Accuracy after PCA"
   ]
  },
  {
   "cell_type": "code",
   "execution_count": 21,
   "metadata": {},
   "outputs": [
    {
     "name": "stdout",
     "output_type": "stream",
     "text": [
      "time taken 0.8457334041595459\n",
      "---actual---\n",
      "0    100\n",
      "Name: actual, dtype: int64\n",
      "---predicted---\n",
      "0    64\n",
      "1    36\n",
      "Name: predicted, dtype: int64\n",
      "\n",
      "0    2577\n",
      "1    1237\n",
      "Name: predicted, dtype: int64\n",
      "category accuracy 0.6756685894074462\n",
      "\n",
      "0    313\n",
      "1    185\n",
      "Name: predicted, dtype: int64\n",
      "category accuracy 0.6285140562248996\n",
      "\n",
      "total accuracy: 0.6520913228161729\n"
     ]
    }
   ],
   "source": [
    "from sklearn.cluster import AgglomerativeClustering\n",
    "\n",
    "clustering = AgglomerativeClustering(linkage=\"ward\", n_clusters=2)\n",
    "\n",
    "start = time.time()\n",
    "y_pred = clustering.fit_predict(final_x)\n",
    "end= time.time()\n",
    "speed = end - start\n",
    "print(\"time taken\", speed)\n",
    "\n",
    "accuracy_table = generate_accuracy_table(y_pred)\n",
    "preview_distinct_values(accuracy_table)\n",
    "print()\n",
    "calculate_accuracy_for_2_categories(accuracy_table)"
   ]
  },
  {
   "cell_type": "code",
   "execution_count": 22,
   "metadata": {},
   "outputs": [],
   "source": [
    "#Accuracy remains the same after PCA"
   ]
  },
  {
   "cell_type": "markdown",
   "metadata": {},
   "source": [
    "## Scatter plot after PCA"
   ]
  },
  {
   "cell_type": "code",
   "execution_count": 23,
   "metadata": {},
   "outputs": [
    {
     "name": "stdout",
     "output_type": "stream",
     "text": [
      "[0 1]\n",
      "(4311, 4)\n"
     ]
    },
    {
     "data": {
      "image/png": "[encoded data removed]",
      "text/plain": [
       "<Figure size 432x288 with 1 Axes>"
      ]
     },
     "metadata": {
      "needs_background": "light"
     },
     "output_type": "display_data"
    },
    {
     "name": "stdout",
     "output_type": "stream",
     "text": [
      "[0 1]\n",
      "(4311, 4)\n"
     ]
    },
    {
     "data": {
      "image/png": "[encoded data removed]",
      "text/plain": [
       "<Figure size 432x288 with 1 Axes>"
      ]
     },
     "metadata": {
      "needs_background": "light"
     },
     "output_type": "display_data"
    },
    {
     "name": "stdout",
     "output_type": "stream",
     "text": [
      "[0 1]\n",
      "(4311, 4)\n"
     ]
    },
    {
     "data": {
      "image/png": "[encoded data removed]",
      "text/plain": [
       "<Figure size 432x288 with 1 Axes>"
      ]
     },
     "metadata": {
      "needs_background": "light"
     },
     "output_type": "display_data"
    }
   ],
   "source": [
    "for i in range(1, len(finalDf.columns) - 1):\n",
    "    plot_scatter(final_x, \n",
    "            y_col = finalDf['y'],\n",
    "            x_col_N = i-1,\n",
    "            x_col_M = i,\n",
    "            num_clusters=2)"
   ]
  },
  {
   "cell_type": "code",
   "execution_count": null,
   "metadata": {},
   "outputs": [],
   "source": []
  }
 ],
 "metadata": {
  "kernelspec": {
   "display_name": "Python 3",
   "language": "python",
   "name": "python3"
  },
  "language_info": {
   "codemirror_mode": {
    "name": "ipython",
    "version": 3
   },
   "file_extension": ".py",
   "mimetype": "text/x-python",
   "name": "python",
   "nbconvert_exporter": "python",
   "pygments_lexer": "ipython3",
   "version": "3.7.4"
  }
 },
 "nbformat": 4,
 "nbformat_minor": 2
}
