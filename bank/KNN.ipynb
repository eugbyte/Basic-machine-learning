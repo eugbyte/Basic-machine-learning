{
 "cells": [
  {
   "cell_type": "markdown",
   "metadata": {},
   "source": [
    "# Before PCA"
   ]
  },
  {
   "cell_type": "code",
   "execution_count": 1,
   "metadata": {},
   "outputs": [],
   "source": [
    "# import everything\n",
    "import pandas as pd\n",
    "import numpy as np\n",
    "import sklearn\n",
    "import seaborn as sb\n",
    "import matplotlib.pyplot as plt\n",
    "from sklearn.neighbors import KNeighborsClassifier\n",
    "from sklearn.metrics import accuracy_score"
   ]
  },
  {
   "cell_type": "code",
   "execution_count": 2,
   "metadata": {},
   "outputs": [
    {
     "data": {
      "text/html": [
       "<div>\n",
       "<style scoped>\n",
       "    .dataframe tbody tr th:only-of-type {\n",
       "        vertical-align: middle;\n",
       "    }\n",
       "\n",
       "    .dataframe tbody tr th {\n",
       "        vertical-align: top;\n",
       "    }\n",
       "\n",
       "    .dataframe thead th {\n",
       "        text-align: right;\n",
       "    }\n",
       "</style>\n",
       "<table border=\"1\" class=\"dataframe\">\n",
       "  <thead>\n",
       "    <tr style=\"text-align: right;\">\n",
       "      <th></th>\n",
       "      <th>age</th>\n",
       "      <th>job</th>\n",
       "      <th>marital</th>\n",
       "      <th>education</th>\n",
       "      <th>default</th>\n",
       "      <th>balance</th>\n",
       "      <th>housing</th>\n",
       "      <th>loan</th>\n",
       "      <th>contact</th>\n",
       "      <th>day</th>\n",
       "      <th>month</th>\n",
       "      <th>duration</th>\n",
       "      <th>campaign</th>\n",
       "      <th>pdays</th>\n",
       "      <th>previous</th>\n",
       "      <th>poutcome</th>\n",
       "      <th>y</th>\n",
       "    </tr>\n",
       "  </thead>\n",
       "  <tbody>\n",
       "    <tr>\n",
       "      <td>4516</td>\n",
       "      <td>33</td>\n",
       "      <td>services</td>\n",
       "      <td>married</td>\n",
       "      <td>secondary</td>\n",
       "      <td>no</td>\n",
       "      <td>-333</td>\n",
       "      <td>yes</td>\n",
       "      <td>no</td>\n",
       "      <td>cellular</td>\n",
       "      <td>30</td>\n",
       "      <td>jul</td>\n",
       "      <td>329</td>\n",
       "      <td>5</td>\n",
       "      <td>-1</td>\n",
       "      <td>0</td>\n",
       "      <td>unknown</td>\n",
       "      <td>no</td>\n",
       "    </tr>\n",
       "    <tr>\n",
       "      <td>4517</td>\n",
       "      <td>57</td>\n",
       "      <td>self-employed</td>\n",
       "      <td>married</td>\n",
       "      <td>tertiary</td>\n",
       "      <td>yes</td>\n",
       "      <td>-3313</td>\n",
       "      <td>yes</td>\n",
       "      <td>yes</td>\n",
       "      <td>unknown</td>\n",
       "      <td>9</td>\n",
       "      <td>may</td>\n",
       "      <td>153</td>\n",
       "      <td>1</td>\n",
       "      <td>-1</td>\n",
       "      <td>0</td>\n",
       "      <td>unknown</td>\n",
       "      <td>no</td>\n",
       "    </tr>\n",
       "    <tr>\n",
       "      <td>4518</td>\n",
       "      <td>57</td>\n",
       "      <td>technician</td>\n",
       "      <td>married</td>\n",
       "      <td>secondary</td>\n",
       "      <td>no</td>\n",
       "      <td>295</td>\n",
       "      <td>no</td>\n",
       "      <td>no</td>\n",
       "      <td>cellular</td>\n",
       "      <td>19</td>\n",
       "      <td>aug</td>\n",
       "      <td>151</td>\n",
       "      <td>11</td>\n",
       "      <td>-1</td>\n",
       "      <td>0</td>\n",
       "      <td>unknown</td>\n",
       "      <td>no</td>\n",
       "    </tr>\n",
       "    <tr>\n",
       "      <td>4519</td>\n",
       "      <td>28</td>\n",
       "      <td>blue-collar</td>\n",
       "      <td>married</td>\n",
       "      <td>secondary</td>\n",
       "      <td>no</td>\n",
       "      <td>1137</td>\n",
       "      <td>no</td>\n",
       "      <td>no</td>\n",
       "      <td>cellular</td>\n",
       "      <td>6</td>\n",
       "      <td>feb</td>\n",
       "      <td>129</td>\n",
       "      <td>4</td>\n",
       "      <td>211</td>\n",
       "      <td>3</td>\n",
       "      <td>other</td>\n",
       "      <td>no</td>\n",
       "    </tr>\n",
       "    <tr>\n",
       "      <td>4520</td>\n",
       "      <td>44</td>\n",
       "      <td>entrepreneur</td>\n",
       "      <td>single</td>\n",
       "      <td>tertiary</td>\n",
       "      <td>no</td>\n",
       "      <td>1136</td>\n",
       "      <td>yes</td>\n",
       "      <td>yes</td>\n",
       "      <td>cellular</td>\n",
       "      <td>3</td>\n",
       "      <td>apr</td>\n",
       "      <td>345</td>\n",
       "      <td>2</td>\n",
       "      <td>249</td>\n",
       "      <td>7</td>\n",
       "      <td>other</td>\n",
       "      <td>no</td>\n",
       "    </tr>\n",
       "  </tbody>\n",
       "</table>\n",
       "</div>"
      ],
      "text/plain": [
       "      age            job  marital  education default  balance housing loan  \\\n",
       "4516   33       services  married  secondary      no     -333     yes   no   \n",
       "4517   57  self-employed  married   tertiary     yes    -3313     yes  yes   \n",
       "4518   57     technician  married  secondary      no      295      no   no   \n",
       "4519   28    blue-collar  married  secondary      no     1137      no   no   \n",
       "4520   44   entrepreneur   single   tertiary      no     1136     yes  yes   \n",
       "\n",
       "       contact  day month  duration  campaign  pdays  previous poutcome   y  \n",
       "4516  cellular   30   jul       329         5     -1         0  unknown  no  \n",
       "4517   unknown    9   may       153         1     -1         0  unknown  no  \n",
       "4518  cellular   19   aug       151        11     -1         0  unknown  no  \n",
       "4519  cellular    6   feb       129         4    211         3    other  no  \n",
       "4520  cellular    3   apr       345         2    249         7    other  no  "
      ]
     },
     "execution_count": 2,
     "metadata": {},
     "output_type": "execute_result"
    }
   ],
   "source": [
    "from sklearn import datasets\n",
    "df = pd.read_csv('bank.csv')\n",
    "df.tail()"
   ]
  },
  {
   "cell_type": "code",
   "execution_count": 3,
   "metadata": {},
   "outputs": [
    {
     "data": {
      "text/html": [
       "<div>\n",
       "<style scoped>\n",
       "    .dataframe tbody tr th:only-of-type {\n",
       "        vertical-align: middle;\n",
       "    }\n",
       "\n",
       "    .dataframe tbody tr th {\n",
       "        vertical-align: top;\n",
       "    }\n",
       "\n",
       "    .dataframe thead th {\n",
       "        text-align: right;\n",
       "    }\n",
       "</style>\n",
       "<table border=\"1\" class=\"dataframe\">\n",
       "  <thead>\n",
       "    <tr style=\"text-align: right;\">\n",
       "      <th></th>\n",
       "      <th>age</th>\n",
       "      <th>job</th>\n",
       "      <th>marital</th>\n",
       "      <th>education</th>\n",
       "      <th>default</th>\n",
       "      <th>balance</th>\n",
       "      <th>housing</th>\n",
       "      <th>loan</th>\n",
       "      <th>y</th>\n",
       "    </tr>\n",
       "  </thead>\n",
       "  <tbody>\n",
       "    <tr>\n",
       "      <td>4516</td>\n",
       "      <td>33</td>\n",
       "      <td>services</td>\n",
       "      <td>married</td>\n",
       "      <td>secondary</td>\n",
       "      <td>no</td>\n",
       "      <td>-333</td>\n",
       "      <td>yes</td>\n",
       "      <td>no</td>\n",
       "      <td>no</td>\n",
       "    </tr>\n",
       "    <tr>\n",
       "      <td>4517</td>\n",
       "      <td>57</td>\n",
       "      <td>self-employed</td>\n",
       "      <td>married</td>\n",
       "      <td>tertiary</td>\n",
       "      <td>yes</td>\n",
       "      <td>-3313</td>\n",
       "      <td>yes</td>\n",
       "      <td>yes</td>\n",
       "      <td>no</td>\n",
       "    </tr>\n",
       "    <tr>\n",
       "      <td>4518</td>\n",
       "      <td>57</td>\n",
       "      <td>technician</td>\n",
       "      <td>married</td>\n",
       "      <td>secondary</td>\n",
       "      <td>no</td>\n",
       "      <td>295</td>\n",
       "      <td>no</td>\n",
       "      <td>no</td>\n",
       "      <td>no</td>\n",
       "    </tr>\n",
       "    <tr>\n",
       "      <td>4519</td>\n",
       "      <td>28</td>\n",
       "      <td>blue-collar</td>\n",
       "      <td>married</td>\n",
       "      <td>secondary</td>\n",
       "      <td>no</td>\n",
       "      <td>1137</td>\n",
       "      <td>no</td>\n",
       "      <td>no</td>\n",
       "      <td>no</td>\n",
       "    </tr>\n",
       "    <tr>\n",
       "      <td>4520</td>\n",
       "      <td>44</td>\n",
       "      <td>entrepreneur</td>\n",
       "      <td>single</td>\n",
       "      <td>tertiary</td>\n",
       "      <td>no</td>\n",
       "      <td>1136</td>\n",
       "      <td>yes</td>\n",
       "      <td>yes</td>\n",
       "      <td>no</td>\n",
       "    </tr>\n",
       "  </tbody>\n",
       "</table>\n",
       "</div>"
      ],
      "text/plain": [
       "      age            job  marital  education default  balance housing loan   y\n",
       "4516   33       services  married  secondary      no     -333     yes   no  no\n",
       "4517   57  self-employed  married   tertiary     yes    -3313     yes  yes  no\n",
       "4518   57     technician  married  secondary      no      295      no   no  no\n",
       "4519   28    blue-collar  married  secondary      no     1137      no   no  no\n",
       "4520   44   entrepreneur   single   tertiary      no     1136     yes  yes  no"
      ]
     },
     "execution_count": 3,
     "metadata": {},
     "output_type": "execute_result"
    }
   ],
   "source": [
    "df = df.drop(columns=['contact', 'day', 'month', 'duration', 'campaign', 'pdays', 'previous' , 'poutcome'])\n",
    "df.tail()"
   ]
  },
  {
   "cell_type": "code",
   "execution_count": 4,
   "metadata": {},
   "outputs": [
    {
     "data": {
      "text/html": [
       "<div>\n",
       "<style scoped>\n",
       "    .dataframe tbody tr th:only-of-type {\n",
       "        vertical-align: middle;\n",
       "    }\n",
       "\n",
       "    .dataframe tbody tr th {\n",
       "        vertical-align: top;\n",
       "    }\n",
       "\n",
       "    .dataframe thead th {\n",
       "        text-align: right;\n",
       "    }\n",
       "</style>\n",
       "<table border=\"1\" class=\"dataframe\">\n",
       "  <thead>\n",
       "    <tr style=\"text-align: right;\">\n",
       "      <th></th>\n",
       "      <th>age</th>\n",
       "      <th>job</th>\n",
       "      <th>marital</th>\n",
       "      <th>education</th>\n",
       "      <th>default</th>\n",
       "      <th>balance</th>\n",
       "      <th>housing</th>\n",
       "      <th>loan</th>\n",
       "      <th>y</th>\n",
       "    </tr>\n",
       "  </thead>\n",
       "  <tbody>\n",
       "    <tr>\n",
       "      <td>0</td>\n",
       "      <td>30</td>\n",
       "      <td>0.0</td>\n",
       "      <td>2</td>\n",
       "      <td>1.0</td>\n",
       "      <td>0</td>\n",
       "      <td>1787</td>\n",
       "      <td>0</td>\n",
       "      <td>0</td>\n",
       "      <td>0</td>\n",
       "    </tr>\n",
       "    <tr>\n",
       "      <td>1</td>\n",
       "      <td>33</td>\n",
       "      <td>1.0</td>\n",
       "      <td>2</td>\n",
       "      <td>2.0</td>\n",
       "      <td>0</td>\n",
       "      <td>4789</td>\n",
       "      <td>1</td>\n",
       "      <td>1</td>\n",
       "      <td>0</td>\n",
       "    </tr>\n",
       "    <tr>\n",
       "      <td>2</td>\n",
       "      <td>35</td>\n",
       "      <td>1.0</td>\n",
       "      <td>1</td>\n",
       "      <td>3.0</td>\n",
       "      <td>0</td>\n",
       "      <td>1350</td>\n",
       "      <td>1</td>\n",
       "      <td>0</td>\n",
       "      <td>0</td>\n",
       "    </tr>\n",
       "    <tr>\n",
       "      <td>3</td>\n",
       "      <td>30</td>\n",
       "      <td>1.0</td>\n",
       "      <td>2</td>\n",
       "      <td>3.0</td>\n",
       "      <td>0</td>\n",
       "      <td>1476</td>\n",
       "      <td>1</td>\n",
       "      <td>1</td>\n",
       "      <td>0</td>\n",
       "    </tr>\n",
       "    <tr>\n",
       "      <td>4</td>\n",
       "      <td>59</td>\n",
       "      <td>1.0</td>\n",
       "      <td>2</td>\n",
       "      <td>2.0</td>\n",
       "      <td>0</td>\n",
       "      <td>0</td>\n",
       "      <td>1</td>\n",
       "      <td>0</td>\n",
       "      <td>0</td>\n",
       "    </tr>\n",
       "  </tbody>\n",
       "</table>\n",
       "</div>"
      ],
      "text/plain": [
       "   age  job  marital  education  default  balance  housing  loan  y\n",
       "0   30  0.0        2        1.0        0     1787        0     0  0\n",
       "1   33  1.0        2        2.0        0     4789        1     1  0\n",
       "2   35  1.0        1        3.0        0     1350        1     0  0\n",
       "3   30  1.0        2        3.0        0     1476        1     1  0\n",
       "4   59  1.0        2        2.0        0        0        1     0  0"
      ]
     },
     "execution_count": 4,
     "metadata": {},
     "output_type": "execute_result"
    }
   ],
   "source": [
    "dict = {\n",
    "    'no': 0,\n",
    "    'yes': 1\n",
    "}\n",
    "\n",
    "dict_edu = {\n",
    "    'primary': 1,\n",
    "    'secondary':2,\n",
    "    'tertiary':3\n",
    "}\n",
    "\n",
    "dict_married = {\n",
    "    'single': 1,\n",
    "    'married': 2,\n",
    "    'divorced': 3\n",
    "}\n",
    "\n",
    "dict_job = {\n",
    "    'admin.': 1,\n",
    "    'unemployed': 0,\n",
    "    'management': 1,\n",
    "    'housemaid': 1,\n",
    "    'entrepreneur':1,\n",
    "    \"student\": 0,\n",
    "    \"blue-collar\": 1,\n",
    "    \"self-employed\": 1,\n",
    "    \"retired\": 0,\n",
    "    \"technician\":1,\n",
    "    \"services\":1\n",
    "}\n",
    "\n",
    "df['y'] = df['y'].map(dict)\n",
    "df['default'] = df['default'].map(dict)\n",
    "df['housing'] = df['housing'].map(dict)\n",
    "df['loan'] = df['loan'].map(dict)\n",
    "df['marital'] = df['marital'].map(dict_married)\n",
    "df['education'] = df['education'].map(dict_edu)\n",
    "df['job'] = df['job'].map(dict_job)\n",
    "#drop NaN columns\n",
    "df = df.dropna()\n",
    "df.head()"
   ]
  },
  {
   "cell_type": "code",
   "execution_count": 5,
   "metadata": {},
   "outputs": [],
   "source": [
    "train_data=[df]\n",
    "for dataset in train_data:\n",
    "    dataset.loc[ dataset['age'] <= 22,'age'] = 0,\n",
    "    dataset.loc[(dataset['age'] >  22) & (dataset['age'] <= 30),'age'] = 1,\n",
    "    dataset.loc[(dataset['age'] > 30) & (dataset['age'] <= 40),'age'] = 2,\n",
    "    dataset.loc[(dataset['age'] > 40 ) & (dataset['age'] <= 50),'age'] = 3,\n",
    "    dataset.loc[(dataset['age'] > 50 ) & (dataset['age'] <= 60),'age'] = 4,\n",
    "    dataset.loc[(dataset['age'] > 60 ) & (dataset['age'] <= 70),'age'] = 5,\n",
    "    dataset.loc[ dataset['age'] > 70,'age'] = 6"
   ]
  },
  {
   "cell_type": "code",
   "execution_count": 6,
   "metadata": {},
   "outputs": [
    {
     "data": {
      "text/html": [
       "<div>\n",
       "<style scoped>\n",
       "    .dataframe tbody tr th:only-of-type {\n",
       "        vertical-align: middle;\n",
       "    }\n",
       "\n",
       "    .dataframe tbody tr th {\n",
       "        vertical-align: top;\n",
       "    }\n",
       "\n",
       "    .dataframe thead th {\n",
       "        text-align: right;\n",
       "    }\n",
       "</style>\n",
       "<table border=\"1\" class=\"dataframe\">\n",
       "  <thead>\n",
       "    <tr style=\"text-align: right;\">\n",
       "      <th></th>\n",
       "      <th>age</th>\n",
       "      <th>job</th>\n",
       "      <th>marital</th>\n",
       "      <th>education</th>\n",
       "      <th>default</th>\n",
       "      <th>balance</th>\n",
       "      <th>housing</th>\n",
       "      <th>loan</th>\n",
       "    </tr>\n",
       "  </thead>\n",
       "  <tbody>\n",
       "    <tr>\n",
       "      <td>0</td>\n",
       "      <td>1</td>\n",
       "      <td>0.0</td>\n",
       "      <td>2</td>\n",
       "      <td>1.0</td>\n",
       "      <td>0</td>\n",
       "      <td>1787</td>\n",
       "      <td>0</td>\n",
       "      <td>0</td>\n",
       "    </tr>\n",
       "    <tr>\n",
       "      <td>1</td>\n",
       "      <td>2</td>\n",
       "      <td>1.0</td>\n",
       "      <td>2</td>\n",
       "      <td>2.0</td>\n",
       "      <td>0</td>\n",
       "      <td>4789</td>\n",
       "      <td>1</td>\n",
       "      <td>1</td>\n",
       "    </tr>\n",
       "    <tr>\n",
       "      <td>2</td>\n",
       "      <td>2</td>\n",
       "      <td>1.0</td>\n",
       "      <td>1</td>\n",
       "      <td>3.0</td>\n",
       "      <td>0</td>\n",
       "      <td>1350</td>\n",
       "      <td>1</td>\n",
       "      <td>0</td>\n",
       "    </tr>\n",
       "    <tr>\n",
       "      <td>3</td>\n",
       "      <td>1</td>\n",
       "      <td>1.0</td>\n",
       "      <td>2</td>\n",
       "      <td>3.0</td>\n",
       "      <td>0</td>\n",
       "      <td>1476</td>\n",
       "      <td>1</td>\n",
       "      <td>1</td>\n",
       "    </tr>\n",
       "    <tr>\n",
       "      <td>4</td>\n",
       "      <td>4</td>\n",
       "      <td>1.0</td>\n",
       "      <td>2</td>\n",
       "      <td>2.0</td>\n",
       "      <td>0</td>\n",
       "      <td>0</td>\n",
       "      <td>1</td>\n",
       "      <td>0</td>\n",
       "    </tr>\n",
       "  </tbody>\n",
       "</table>\n",
       "</div>"
      ],
      "text/plain": [
       "   age  job  marital  education  default  balance  housing  loan\n",
       "0    1  0.0        2        1.0        0     1787        0     0\n",
       "1    2  1.0        2        2.0        0     4789        1     1\n",
       "2    2  1.0        1        3.0        0     1350        1     0\n",
       "3    1  1.0        2        3.0        0     1476        1     1\n",
       "4    4  1.0        2        2.0        0        0        1     0"
      ]
     },
     "execution_count": 6,
     "metadata": {},
     "output_type": "execute_result"
    }
   ],
   "source": [
    "X = df.iloc[:,0:8]\n",
    "# use 'y' as the target we're trying to predict\n",
    "y = df['y']\n",
    "X.head()"
   ]
  },
  {
   "cell_type": "code",
   "execution_count": 7,
   "metadata": {},
   "outputs": [
    {
     "name": "stderr",
     "output_type": "stream",
     "text": [
      "C:\\Users\\eugen\\Anaconda3\\lib\\site-packages\\statsmodels\\nonparametric\\kde.py:487: RuntimeWarning: invalid value encountered in true_divide\n",
      "  binned = fast_linbin(X, a, b, gridsize) / (delta * nobs)\n",
      "C:\\Users\\eugen\\Anaconda3\\lib\\site-packages\\statsmodels\\nonparametric\\kdetools.py:34: RuntimeWarning: invalid value encountered in double_scalars\n",
      "  FAC1 = 2*(np.pi*bw/RANGE)**2\n"
     ]
    },
    {
     "data": {
      "image/png": "[encoded data removed]",
      "text/plain": [
       "<Figure size 1662.38x1620 with 90 Axes>"
      ]
     },
     "metadata": {
      "needs_background": "light"
     },
     "output_type": "display_data"
    }
   ],
   "source": [
    "sb.pairplot (df, hue='y')  # Show different levels of a categorical variable by the color of plot elements\n",
    "plt.show()"
   ]
  },
  {
   "cell_type": "code",
   "execution_count": 8,
   "metadata": {},
   "outputs": [],
   "source": [
    "from sklearn.model_selection import train_test_split\n",
    "from sklearn.linear_model import LogisticRegression\n",
    "\n",
    "X_train, X_test, y_train, y_test = train_test_split(X, y, random_state = 42)"
   ]
  },
  {
   "cell_type": "code",
   "execution_count": 9,
   "metadata": {},
   "outputs": [
    {
     "data": {
      "text/plain": [
       "4056    0\n",
       "2751    0\n",
       "4073    0\n",
       "2127    0\n",
       "4278    0\n",
       "       ..\n",
       "3610    0\n",
       "487     0\n",
       "3239    1\n",
       "3953    0\n",
       "898     0\n",
       "Name: y, Length: 3233, dtype: int64"
      ]
     },
     "execution_count": 9,
     "metadata": {},
     "output_type": "execute_result"
    }
   ],
   "source": [
    "X_train.head()\n",
    "y_train"
   ]
  },
  {
   "cell_type": "code",
   "execution_count": 10,
   "metadata": {},
   "outputs": [
    {
     "data": {
      "text/plain": [
       "KNeighborsClassifier(algorithm='auto', leaf_size=30, metric='minkowski',\n",
       "                     metric_params=None, n_jobs=None, n_neighbors=9, p=2,\n",
       "                     weights='uniform')"
      ]
     },
     "execution_count": 10,
     "metadata": {},
     "output_type": "execute_result"
    }
   ],
   "source": [
    "knn_model = KNeighborsClassifier(n_neighbors = 9) \n",
    "knn_model.fit(X_train, y_train) # train our model to the data set we have. The training set is all the data points"
   ]
  },
  {
   "cell_type": "code",
   "execution_count": 11,
   "metadata": {},
   "outputs": [],
   "source": [
    "y_pred = knn_model.predict(X_test)"
   ]
  },
  {
   "cell_type": "code",
   "execution_count": 12,
   "metadata": {},
   "outputs": [
    {
     "name": "stdout",
     "output_type": "stream",
     "text": [
      "[0 0 0 ... 0 0 0]\n"
     ]
    }
   ],
   "source": [
    "print(y_pred)"
   ]
  },
  {
   "cell_type": "code",
   "execution_count": 13,
   "metadata": {},
   "outputs": [
    {
     "data": {
      "text/plain": [
       "2906    0\n",
       "1826    0\n",
       "4173    0\n",
       "3659    0\n",
       "3298    0\n",
       "       ..\n",
       "1238    0\n",
       "2434    0\n",
       "854     0\n",
       "4078    0\n",
       "2008    0\n",
       "Name: y, Length: 1078, dtype: int64"
      ]
     },
     "execution_count": 13,
     "metadata": {},
     "output_type": "execute_result"
    }
   ],
   "source": [
    "y_test"
   ]
  },
  {
   "cell_type": "code",
   "execution_count": 14,
   "metadata": {},
   "outputs": [
    {
     "name": "stdout",
     "output_type": "stream",
     "text": [
      "0.8979591836734694\n"
     ]
    }
   ],
   "source": [
    "from sklearn.metrics import accuracy_score\n",
    "print(accuracy_score(y_test, y_pred))"
   ]
  },
  {
   "cell_type": "code",
   "execution_count": 15,
   "metadata": {},
   "outputs": [
    {
     "name": "stdout",
     "output_type": "stream",
     "text": [
      "0.006980180740356445\n"
     ]
    }
   ],
   "source": [
    "import time\n",
    "start = time.time()\n",
    "knn_model.fit(X_train, y_train)\n",
    "end= time.time()\n",
    "speed = end - start\n",
    "print(speed)"
   ]
  },
  {
   "cell_type": "code",
   "execution_count": 16,
   "metadata": {},
   "outputs": [
    {
     "data": {
      "text/plain": [
       "array([[968,   1],\n",
       "       [109,   0]], dtype=int64)"
      ]
     },
     "execution_count": 16,
     "metadata": {},
     "output_type": "execute_result"
    }
   ],
   "source": [
    "from sklearn.metrics import confusion_matrix\n",
    "confusion_matrix(y_test, y_pred)"
   ]
  },
  {
   "cell_type": "markdown",
   "metadata": {},
   "source": [
    "# After PCA"
   ]
  },
  {
   "cell_type": "code",
   "execution_count": 17,
   "metadata": {},
   "outputs": [],
   "source": [
    "import numpy as np\n",
    "import matplotlib.pyplot as plt\n",
    "import pandas as pd\n",
    "import seaborn as sb\n",
    "from sklearn import datasets\n",
    "from sklearn.cluster import KMeans\n",
    "from sklearn.neighbors import KNeighborsClassifier\n",
    "from sklearn.metrics import accuracy_score"
   ]
  },
  {
   "cell_type": "code",
   "execution_count": 18,
   "metadata": {},
   "outputs": [
    {
     "name": "stdout",
     "output_type": "stream",
     "text": [
      "Index(['age', 'job', 'marital', 'education', 'default', 'balance', 'housing',\n",
      "       'loan', 'y'],\n",
      "      dtype='object')\n"
     ]
    },
    {
     "data": {
      "text/html": [
       "<div>\n",
       "<style scoped>\n",
       "    .dataframe tbody tr th:only-of-type {\n",
       "        vertical-align: middle;\n",
       "    }\n",
       "\n",
       "    .dataframe tbody tr th {\n",
       "        vertical-align: top;\n",
       "    }\n",
       "\n",
       "    .dataframe thead th {\n",
       "        text-align: right;\n",
       "    }\n",
       "</style>\n",
       "<table border=\"1\" class=\"dataframe\">\n",
       "  <thead>\n",
       "    <tr style=\"text-align: right;\">\n",
       "      <th></th>\n",
       "      <th>age</th>\n",
       "      <th>job</th>\n",
       "      <th>marital</th>\n",
       "      <th>education</th>\n",
       "      <th>default</th>\n",
       "      <th>balance</th>\n",
       "      <th>housing</th>\n",
       "      <th>loan</th>\n",
       "      <th>y</th>\n",
       "    </tr>\n",
       "  </thead>\n",
       "  <tbody>\n",
       "    <tr>\n",
       "      <td>count</td>\n",
       "      <td>4311.000000</td>\n",
       "      <td>4311.000000</td>\n",
       "      <td>4311.000000</td>\n",
       "      <td>4311.000000</td>\n",
       "      <td>4311.000000</td>\n",
       "      <td>4311.000000</td>\n",
       "      <td>4311.000000</td>\n",
       "      <td>4311.000000</td>\n",
       "      <td>4311.000000</td>\n",
       "    </tr>\n",
       "    <tr>\n",
       "      <td>mean</td>\n",
       "      <td>2.543261</td>\n",
       "      <td>0.904894</td>\n",
       "      <td>1.851311</td>\n",
       "      <td>2.155648</td>\n",
       "      <td>0.016933</td>\n",
       "      <td>1410.662723</td>\n",
       "      <td>0.574113</td>\n",
       "      <td>0.158432</td>\n",
       "      <td>0.115518</td>\n",
       "    </tr>\n",
       "    <tr>\n",
       "      <td>std</td>\n",
       "      <td>1.059011</td>\n",
       "      <td>0.293395</td>\n",
       "      <td>0.600017</td>\n",
       "      <td>0.665448</td>\n",
       "      <td>0.129037</td>\n",
       "      <td>3015.650889</td>\n",
       "      <td>0.494534</td>\n",
       "      <td>0.365188</td>\n",
       "      <td>0.319684</td>\n",
       "    </tr>\n",
       "    <tr>\n",
       "      <td>min</td>\n",
       "      <td>0.000000</td>\n",
       "      <td>0.000000</td>\n",
       "      <td>1.000000</td>\n",
       "      <td>1.000000</td>\n",
       "      <td>0.000000</td>\n",
       "      <td>-3313.000000</td>\n",
       "      <td>0.000000</td>\n",
       "      <td>0.000000</td>\n",
       "      <td>0.000000</td>\n",
       "    </tr>\n",
       "    <tr>\n",
       "      <td>25%</td>\n",
       "      <td>2.000000</td>\n",
       "      <td>1.000000</td>\n",
       "      <td>1.000000</td>\n",
       "      <td>2.000000</td>\n",
       "      <td>0.000000</td>\n",
       "      <td>66.500000</td>\n",
       "      <td>0.000000</td>\n",
       "      <td>0.000000</td>\n",
       "      <td>0.000000</td>\n",
       "    </tr>\n",
       "    <tr>\n",
       "      <td>50%</td>\n",
       "      <td>2.000000</td>\n",
       "      <td>1.000000</td>\n",
       "      <td>2.000000</td>\n",
       "      <td>2.000000</td>\n",
       "      <td>0.000000</td>\n",
       "      <td>440.000000</td>\n",
       "      <td>1.000000</td>\n",
       "      <td>0.000000</td>\n",
       "      <td>0.000000</td>\n",
       "    </tr>\n",
       "    <tr>\n",
       "      <td>75%</td>\n",
       "      <td>3.000000</td>\n",
       "      <td>1.000000</td>\n",
       "      <td>2.000000</td>\n",
       "      <td>3.000000</td>\n",
       "      <td>0.000000</td>\n",
       "      <td>1456.000000</td>\n",
       "      <td>1.000000</td>\n",
       "      <td>0.000000</td>\n",
       "      <td>0.000000</td>\n",
       "    </tr>\n",
       "    <tr>\n",
       "      <td>max</td>\n",
       "      <td>6.000000</td>\n",
       "      <td>1.000000</td>\n",
       "      <td>3.000000</td>\n",
       "      <td>3.000000</td>\n",
       "      <td>1.000000</td>\n",
       "      <td>71188.000000</td>\n",
       "      <td>1.000000</td>\n",
       "      <td>1.000000</td>\n",
       "      <td>1.000000</td>\n",
       "    </tr>\n",
       "  </tbody>\n",
       "</table>\n",
       "</div>"
      ],
      "text/plain": [
       "               age          job      marital    education      default  \\\n",
       "count  4311.000000  4311.000000  4311.000000  4311.000000  4311.000000   \n",
       "mean      2.543261     0.904894     1.851311     2.155648     0.016933   \n",
       "std       1.059011     0.293395     0.600017     0.665448     0.129037   \n",
       "min       0.000000     0.000000     1.000000     1.000000     0.000000   \n",
       "25%       2.000000     1.000000     1.000000     2.000000     0.000000   \n",
       "50%       2.000000     1.000000     2.000000     2.000000     0.000000   \n",
       "75%       3.000000     1.000000     2.000000     3.000000     0.000000   \n",
       "max       6.000000     1.000000     3.000000     3.000000     1.000000   \n",
       "\n",
       "            balance      housing         loan            y  \n",
       "count   4311.000000  4311.000000  4311.000000  4311.000000  \n",
       "mean    1410.662723     0.574113     0.158432     0.115518  \n",
       "std     3015.650889     0.494534     0.365188     0.319684  \n",
       "min    -3313.000000     0.000000     0.000000     0.000000  \n",
       "25%       66.500000     0.000000     0.000000     0.000000  \n",
       "50%      440.000000     1.000000     0.000000     0.000000  \n",
       "75%     1456.000000     1.000000     0.000000     0.000000  \n",
       "max    71188.000000     1.000000     1.000000     1.000000  "
      ]
     },
     "execution_count": 18,
     "metadata": {},
     "output_type": "execute_result"
    }
   ],
   "source": [
    "print(df.columns)\n",
    "df.describe()"
   ]
  },
  {
   "cell_type": "code",
   "execution_count": 19,
   "metadata": {},
   "outputs": [
    {
     "data": {
      "text/html": [
       "<div>\n",
       "<style scoped>\n",
       "    .dataframe tbody tr th:only-of-type {\n",
       "        vertical-align: middle;\n",
       "    }\n",
       "\n",
       "    .dataframe tbody tr th {\n",
       "        vertical-align: top;\n",
       "    }\n",
       "\n",
       "    .dataframe thead th {\n",
       "        text-align: right;\n",
       "    }\n",
       "</style>\n",
       "<table border=\"1\" class=\"dataframe\">\n",
       "  <thead>\n",
       "    <tr style=\"text-align: right;\">\n",
       "      <th></th>\n",
       "      <th>age</th>\n",
       "      <th>job</th>\n",
       "      <th>marital</th>\n",
       "      <th>education</th>\n",
       "      <th>default</th>\n",
       "      <th>balance</th>\n",
       "      <th>housing</th>\n",
       "      <th>loan</th>\n",
       "    </tr>\n",
       "  </thead>\n",
       "  <tbody>\n",
       "    <tr>\n",
       "      <td>0</td>\n",
       "      <td>-1.457436</td>\n",
       "      <td>-3.084580</td>\n",
       "      <td>0.247837</td>\n",
       "      <td>-1.736848</td>\n",
       "      <td>-0.131244</td>\n",
       "      <td>0.124809</td>\n",
       "      <td>-1.161051</td>\n",
       "      <td>-0.433887</td>\n",
       "    </tr>\n",
       "    <tr>\n",
       "      <td>1</td>\n",
       "      <td>-0.513049</td>\n",
       "      <td>0.324193</td>\n",
       "      <td>0.247837</td>\n",
       "      <td>-0.233927</td>\n",
       "      <td>-0.131244</td>\n",
       "      <td>1.120398</td>\n",
       "      <td>0.861289</td>\n",
       "      <td>2.304747</td>\n",
       "    </tr>\n",
       "    <tr>\n",
       "      <td>2</td>\n",
       "      <td>-0.513049</td>\n",
       "      <td>0.324193</td>\n",
       "      <td>-1.418974</td>\n",
       "      <td>1.268994</td>\n",
       "      <td>-0.131244</td>\n",
       "      <td>-0.020118</td>\n",
       "      <td>0.861289</td>\n",
       "      <td>-0.433887</td>\n",
       "    </tr>\n",
       "    <tr>\n",
       "      <td>3</td>\n",
       "      <td>-1.457436</td>\n",
       "      <td>0.324193</td>\n",
       "      <td>0.247837</td>\n",
       "      <td>1.268994</td>\n",
       "      <td>-0.131244</td>\n",
       "      <td>0.021669</td>\n",
       "      <td>0.861289</td>\n",
       "      <td>2.304747</td>\n",
       "    </tr>\n",
       "    <tr>\n",
       "      <td>4</td>\n",
       "      <td>1.375725</td>\n",
       "      <td>0.324193</td>\n",
       "      <td>0.247837</td>\n",
       "      <td>-0.233927</td>\n",
       "      <td>-0.131244</td>\n",
       "      <td>-0.467835</td>\n",
       "      <td>0.861289</td>\n",
       "      <td>-0.433887</td>\n",
       "    </tr>\n",
       "  </tbody>\n",
       "</table>\n",
       "</div>"
      ],
      "text/plain": [
       "        age       job   marital  education   default   balance   housing  \\\n",
       "0 -1.457436 -3.084580  0.247837  -1.736848 -0.131244  0.124809 -1.161051   \n",
       "1 -0.513049  0.324193  0.247837  -0.233927 -0.131244  1.120398  0.861289   \n",
       "2 -0.513049  0.324193 -1.418974   1.268994 -0.131244 -0.020118  0.861289   \n",
       "3 -1.457436  0.324193  0.247837   1.268994 -0.131244  0.021669  0.861289   \n",
       "4  1.375725  0.324193  0.247837  -0.233927 -0.131244 -0.467835  0.861289   \n",
       "\n",
       "       loan  \n",
       "0 -0.433887  \n",
       "1  2.304747  \n",
       "2 -0.433887  \n",
       "3  2.304747  \n",
       "4 -0.433887  "
      ]
     },
     "execution_count": 19,
     "metadata": {},
     "output_type": "execute_result"
    }
   ],
   "source": [
    "from sklearn.preprocessing import StandardScaler\n",
    "features = ['age','job','marital','education','default','balance','housing','loan']\n",
    "x = df.loc[:,features].values\n",
    "y = df.loc[:,['y']].values\n",
    "x = StandardScaler().fit_transform(x)\n",
    "pd.DataFrame(data=x, columns = features).head()"
   ]
  },
  {
   "cell_type": "code",
   "execution_count": 20,
   "metadata": {},
   "outputs": [
    {
     "data": {
      "text/html": [
       "<div>\n",
       "<style scoped>\n",
       "    .dataframe tbody tr th:only-of-type {\n",
       "        vertical-align: middle;\n",
       "    }\n",
       "\n",
       "    .dataframe tbody tr th {\n",
       "        vertical-align: top;\n",
       "    }\n",
       "\n",
       "    .dataframe thead th {\n",
       "        text-align: right;\n",
       "    }\n",
       "</style>\n",
       "<table border=\"1\" class=\"dataframe\">\n",
       "  <thead>\n",
       "    <tr style=\"text-align: right;\">\n",
       "      <th></th>\n",
       "      <th>principal component 1</th>\n",
       "      <th>principal component 2</th>\n",
       "      <th>principal component 3</th>\n",
       "      <th>principal component 4</th>\n",
       "      <th>principal component 5</th>\n",
       "      <th>principal component 6</th>\n",
       "    </tr>\n",
       "  </thead>\n",
       "  <tbody>\n",
       "    <tr>\n",
       "      <td>0</td>\n",
       "      <td>1.325828</td>\n",
       "      <td>1.055645</td>\n",
       "      <td>-0.816110</td>\n",
       "      <td>-2.355560</td>\n",
       "      <td>-0.716315</td>\n",
       "      <td>0.893129</td>\n",
       "    </tr>\n",
       "    <tr>\n",
       "      <td>1</td>\n",
       "      <td>-0.373035</td>\n",
       "      <td>-1.013414</td>\n",
       "      <td>0.117927</td>\n",
       "      <td>1.404115</td>\n",
       "      <td>-0.646003</td>\n",
       "      <td>1.997172</td>\n",
       "    </tr>\n",
       "    <tr>\n",
       "      <td>2</td>\n",
       "      <td>-1.786538</td>\n",
       "      <td>0.632143</td>\n",
       "      <td>0.159217</td>\n",
       "      <td>-0.090444</td>\n",
       "      <td>0.180432</td>\n",
       "      <td>-0.104730</td>\n",
       "    </tr>\n",
       "    <tr>\n",
       "      <td>3</td>\n",
       "      <td>-1.574018</td>\n",
       "      <td>-0.988630</td>\n",
       "      <td>-0.581962</td>\n",
       "      <td>1.692238</td>\n",
       "      <td>-0.888623</td>\n",
       "      <td>0.797764</td>\n",
       "    </tr>\n",
       "    <tr>\n",
       "      <td>4</td>\n",
       "      <td>0.684018</td>\n",
       "      <td>-0.696565</td>\n",
       "      <td>0.792696</td>\n",
       "      <td>-0.160127</td>\n",
       "      <td>0.232912</td>\n",
       "      <td>-0.504604</td>\n",
       "    </tr>\n",
       "  </tbody>\n",
       "</table>\n",
       "</div>"
      ],
      "text/plain": [
       "   principal component 1  principal component 2  principal component 3  \\\n",
       "0               1.325828               1.055645              -0.816110   \n",
       "1              -0.373035              -1.013414               0.117927   \n",
       "2              -1.786538               0.632143               0.159217   \n",
       "3              -1.574018              -0.988630              -0.581962   \n",
       "4               0.684018              -0.696565               0.792696   \n",
       "\n",
       "   principal component 4  principal component 5  principal component 6  \n",
       "0              -2.355560              -0.716315               0.893129  \n",
       "1               1.404115              -0.646003               1.997172  \n",
       "2              -0.090444               0.180432              -0.104730  \n",
       "3               1.692238              -0.888623               0.797764  \n",
       "4              -0.160127               0.232912              -0.504604  "
      ]
     },
     "execution_count": 20,
     "metadata": {},
     "output_type": "execute_result"
    }
   ],
   "source": [
    "from sklearn.decomposition import PCA\n",
    "pca = PCA(n_components=6)\n",
    "principalComponents = pca.fit_transform(x)\n",
    "principalDf = pd.DataFrame(data = principalComponents, columns = ['principal component 1','principal component 2'\n",
    "                                                                  ,'principal component 3','principal component 4'\n",
    "                                                                  ,'principal component 5','principal component 6'])\n",
    "principalDf.head()"
   ]
  },
  {
   "cell_type": "code",
   "execution_count": 21,
   "metadata": {},
   "outputs": [
    {
     "data": {
      "text/html": [
       "<div>\n",
       "<style scoped>\n",
       "    .dataframe tbody tr th:only-of-type {\n",
       "        vertical-align: middle;\n",
       "    }\n",
       "\n",
       "    .dataframe tbody tr th {\n",
       "        vertical-align: top;\n",
       "    }\n",
       "\n",
       "    .dataframe thead th {\n",
       "        text-align: right;\n",
       "    }\n",
       "</style>\n",
       "<table border=\"1\" class=\"dataframe\">\n",
       "  <thead>\n",
       "    <tr style=\"text-align: right;\">\n",
       "      <th></th>\n",
       "      <th>principal component 1</th>\n",
       "      <th>principal component 2</th>\n",
       "      <th>principal component 3</th>\n",
       "      <th>principal component 4</th>\n",
       "      <th>principal component 5</th>\n",
       "      <th>principal component 6</th>\n",
       "      <th>y</th>\n",
       "    </tr>\n",
       "  </thead>\n",
       "  <tbody>\n",
       "    <tr>\n",
       "      <td>0</td>\n",
       "      <td>1.325828</td>\n",
       "      <td>1.055645</td>\n",
       "      <td>-0.816110</td>\n",
       "      <td>-2.355560</td>\n",
       "      <td>-0.716315</td>\n",
       "      <td>0.893129</td>\n",
       "      <td>0.0</td>\n",
       "    </tr>\n",
       "    <tr>\n",
       "      <td>1</td>\n",
       "      <td>-0.373035</td>\n",
       "      <td>-1.013414</td>\n",
       "      <td>0.117927</td>\n",
       "      <td>1.404115</td>\n",
       "      <td>-0.646003</td>\n",
       "      <td>1.997172</td>\n",
       "      <td>0.0</td>\n",
       "    </tr>\n",
       "    <tr>\n",
       "      <td>2</td>\n",
       "      <td>-1.786538</td>\n",
       "      <td>0.632143</td>\n",
       "      <td>0.159217</td>\n",
       "      <td>-0.090444</td>\n",
       "      <td>0.180432</td>\n",
       "      <td>-0.104730</td>\n",
       "      <td>0.0</td>\n",
       "    </tr>\n",
       "    <tr>\n",
       "      <td>3</td>\n",
       "      <td>-1.574018</td>\n",
       "      <td>-0.988630</td>\n",
       "      <td>-0.581962</td>\n",
       "      <td>1.692238</td>\n",
       "      <td>-0.888623</td>\n",
       "      <td>0.797764</td>\n",
       "      <td>0.0</td>\n",
       "    </tr>\n",
       "    <tr>\n",
       "      <td>4</td>\n",
       "      <td>0.684018</td>\n",
       "      <td>-0.696565</td>\n",
       "      <td>0.792696</td>\n",
       "      <td>-0.160127</td>\n",
       "      <td>0.232912</td>\n",
       "      <td>-0.504604</td>\n",
       "      <td>0.0</td>\n",
       "    </tr>\n",
       "  </tbody>\n",
       "</table>\n",
       "</div>"
      ],
      "text/plain": [
       "   principal component 1  principal component 2  principal component 3  \\\n",
       "0               1.325828               1.055645              -0.816110   \n",
       "1              -0.373035              -1.013414               0.117927   \n",
       "2              -1.786538               0.632143               0.159217   \n",
       "3              -1.574018              -0.988630              -0.581962   \n",
       "4               0.684018              -0.696565               0.792696   \n",
       "\n",
       "   principal component 4  principal component 5  principal component 6    y  \n",
       "0              -2.355560              -0.716315               0.893129  0.0  \n",
       "1               1.404115              -0.646003               1.997172  0.0  \n",
       "2              -0.090444               0.180432              -0.104730  0.0  \n",
       "3               1.692238              -0.888623               0.797764  0.0  \n",
       "4              -0.160127               0.232912              -0.504604  0.0  "
      ]
     },
     "execution_count": 21,
     "metadata": {},
     "output_type": "execute_result"
    }
   ],
   "source": [
    "finalDf = pd.concat([principalDf, df[['y']]],axis = 1)\n",
    "#drop NaN columns\n",
    "finalDf = finalDf.dropna()\n",
    "finalDf.head()"
   ]
  },
  {
   "cell_type": "code",
   "execution_count": 22,
   "metadata": {},
   "outputs": [
    {
     "name": "stderr",
     "output_type": "stream",
     "text": [
      "C:\\Users\\eugen\\Anaconda3\\lib\\site-packages\\pandas\\core\\ops\\__init__.py:1115: FutureWarning: elementwise comparison failed; returning scalar instead, but in the future will perform elementwise comparison\n",
      "  result = method(y)\n"
     ]
    },
    {
     "data": {
      "image/png": "[encoded data removed]",
      "text/plain": [
       "<Figure size 1008x432 with 1 Axes>"
      ]
     },
     "metadata": {
      "needs_background": "light"
     },
     "output_type": "display_data"
    }
   ],
   "source": [
    "fig = plt.figure(figsize = (14,6))\n",
    "ax1 = fig.add_subplot(1,2,1)\n",
    "ax1.set_xlabel('Principal Component 1',fontsize = 10)\n",
    "ax1.set_ylabel('Principal Component 2',fontsize = 10)\n",
    "\n",
    "ax1.set_title('6 Components PCA',fontsize = 15)\n",
    "targets = [0.0,1.0,'NaN']\n",
    "colors = 'rgb'\n",
    "for target , color in zip(targets,colors):\n",
    "    indicesToKeep = finalDf['y'] == target\n",
    "    ax1.scatter(finalDf.loc[indicesToKeep,'principal component 1']\n",
    "               ,finalDf.loc[indicesToKeep,'principal component 2']\n",
    "               ,c = color\n",
    "               ,s = 50)\n",
    "ax1.legend(targets)\n",
    "ax1.grid()"
   ]
  },
  {
   "cell_type": "code",
   "execution_count": 23,
   "metadata": {},
   "outputs": [
    {
     "name": "stdout",
     "output_type": "stream",
     "text": [
      "[0.20138465 0.15586271 0.13344624 0.12199225 0.11633165 0.11161944]\n",
      "0.8406369342279691\n"
     ]
    }
   ],
   "source": [
    "print(pca.explained_variance_ratio_)\n",
    "print(pca.explained_variance_ratio_.sum())"
   ]
  },
  {
   "cell_type": "code",
   "execution_count": 24,
   "metadata": {},
   "outputs": [
    {
     "data": {
      "text/plain": [
       "array([[ 0.64719733, -0.41311907,  0.47816706, -0.32687786, -0.00640661,\n",
       "         0.08965464, -0.25850738,  0.00838515],\n",
       "       [-0.0081734 , -0.2990264 , -0.34889927,  0.34919904, -0.27575723,\n",
       "         0.46212778, -0.47503462, -0.38933753],\n",
       "       [ 0.061303  ,  0.26846692,  0.22350854, -0.19228519, -0.58083642,\n",
       "         0.32128484,  0.49416981, -0.39043449],\n",
       "       [ 0.1606755 ,  0.40895594,  0.36300684,  0.54717691, -0.07916214,\n",
       "         0.34812955, -0.1334452 ,  0.48009732],\n",
       "       [ 0.05742438,  0.13398612,  0.16961668,  0.12382636,  0.74821119,\n",
       "         0.34084021,  0.17094165, -0.478993  ],\n",
       "       [-0.08839382, -0.18898952, -0.3111586 , -0.38220023,  0.13584543,\n",
       "         0.64480795,  0.22423654,  0.47860162]])"
      ]
     },
     "execution_count": 24,
     "metadata": {},
     "output_type": "execute_result"
    }
   ],
   "source": [
    "pca.components_"
   ]
  },
  {
   "cell_type": "code",
   "execution_count": 25,
   "metadata": {},
   "outputs": [
    {
     "data": {
      "text/plain": [
       "array([[ 0.64719733, -0.41311907,  0.47816706, -0.32687786, -0.00640661,\n",
       "         0.08965464, -0.25850738,  0.00838515],\n",
       "       [-0.0081734 , -0.2990264 , -0.34889927,  0.34919904, -0.27575723,\n",
       "         0.46212778, -0.47503462, -0.38933753],\n",
       "       [ 0.061303  ,  0.26846692,  0.22350854, -0.19228519, -0.58083642,\n",
       "         0.32128484,  0.49416981, -0.39043449],\n",
       "       [ 0.1606755 ,  0.40895594,  0.36300684,  0.54717691, -0.07916214,\n",
       "         0.34812955, -0.1334452 ,  0.48009732],\n",
       "       [ 0.05742438,  0.13398612,  0.16961668,  0.12382636,  0.74821119,\n",
       "         0.34084021,  0.17094165, -0.478993  ],\n",
       "       [-0.08839382, -0.18898952, -0.3111586 , -0.38220023,  0.13584543,\n",
       "         0.64480795,  0.22423654,  0.47860162],\n",
       "       [-0.01822056, -0.63801167,  0.12989619,  0.50240196, -0.03695363,\n",
       "        -0.07569048,  0.55631018,  0.082175  ],\n",
       "       [-0.73488171, -0.19967018,  0.57046737, -0.14497247, -0.02529375,\n",
       "         0.12768494, -0.23774046, -0.01291969]])"
      ]
     },
     "execution_count": 25,
     "metadata": {},
     "output_type": "execute_result"
    }
   ],
   "source": [
    "pca_all = PCA()\n",
    "pca_all.fit(x)\n",
    "W = pca_all.components_ # Z = W dot X.T\n",
    "W"
   ]
  },
  {
   "cell_type": "code",
   "execution_count": 26,
   "metadata": {},
   "outputs": [
    {
     "data": {
      "image/png": "[encoded data removed]",
      "text/plain": [
       "<Figure size 720x576 with 2 Axes>"
      ]
     },
     "metadata": {
      "needs_background": "light"
     },
     "output_type": "display_data"
    }
   ],
   "source": [
    "import seaborn as sns\n",
    "fig, ax = plt.subplots(figsize=(10, 8))\n",
    "sns.heatmap(W, annot=True, ax=ax)\n",
    "ax.set_yticklabels(['PC1', 'PC2', 'PC3', 'PC4','PC5', 'PC6', 'PC7', 'PC8'])\n",
    "ax.set_xticklabels(features)\n",
    "plt.show()"
   ]
  },
  {
   "cell_type": "markdown",
   "metadata": {},
   "source": [
    "# Train the model"
   ]
  },
  {
   "cell_type": "code",
   "execution_count": 27,
   "metadata": {},
   "outputs": [
    {
     "data": {
      "text/html": [
       "<div>\n",
       "<style scoped>\n",
       "    .dataframe tbody tr th:only-of-type {\n",
       "        vertical-align: middle;\n",
       "    }\n",
       "\n",
       "    .dataframe tbody tr th {\n",
       "        vertical-align: top;\n",
       "    }\n",
       "\n",
       "    .dataframe thead th {\n",
       "        text-align: right;\n",
       "    }\n",
       "</style>\n",
       "<table border=\"1\" class=\"dataframe\">\n",
       "  <thead>\n",
       "    <tr style=\"text-align: right;\">\n",
       "      <th></th>\n",
       "      <th>principal component 1</th>\n",
       "      <th>principal component 2</th>\n",
       "      <th>principal component 3</th>\n",
       "      <th>principal component 4</th>\n",
       "      <th>principal component 5</th>\n",
       "      <th>principal component 6</th>\n",
       "    </tr>\n",
       "  </thead>\n",
       "  <tbody>\n",
       "    <tr>\n",
       "      <td>0</td>\n",
       "      <td>1.325828</td>\n",
       "      <td>1.055645</td>\n",
       "      <td>-0.816110</td>\n",
       "      <td>-2.355560</td>\n",
       "      <td>-0.716315</td>\n",
       "      <td>0.893129</td>\n",
       "    </tr>\n",
       "    <tr>\n",
       "      <td>1</td>\n",
       "      <td>-0.373035</td>\n",
       "      <td>-1.013414</td>\n",
       "      <td>0.117927</td>\n",
       "      <td>1.404115</td>\n",
       "      <td>-0.646003</td>\n",
       "      <td>1.997172</td>\n",
       "    </tr>\n",
       "    <tr>\n",
       "      <td>2</td>\n",
       "      <td>-1.786538</td>\n",
       "      <td>0.632143</td>\n",
       "      <td>0.159217</td>\n",
       "      <td>-0.090444</td>\n",
       "      <td>0.180432</td>\n",
       "      <td>-0.104730</td>\n",
       "    </tr>\n",
       "    <tr>\n",
       "      <td>3</td>\n",
       "      <td>-1.574018</td>\n",
       "      <td>-0.988630</td>\n",
       "      <td>-0.581962</td>\n",
       "      <td>1.692238</td>\n",
       "      <td>-0.888623</td>\n",
       "      <td>0.797764</td>\n",
       "    </tr>\n",
       "    <tr>\n",
       "      <td>4</td>\n",
       "      <td>0.684018</td>\n",
       "      <td>-0.696565</td>\n",
       "      <td>0.792696</td>\n",
       "      <td>-0.160127</td>\n",
       "      <td>0.232912</td>\n",
       "      <td>-0.504604</td>\n",
       "    </tr>\n",
       "  </tbody>\n",
       "</table>\n",
       "</div>"
      ],
      "text/plain": [
       "   principal component 1  principal component 2  principal component 3  \\\n",
       "0               1.325828               1.055645              -0.816110   \n",
       "1              -0.373035              -1.013414               0.117927   \n",
       "2              -1.786538               0.632143               0.159217   \n",
       "3              -1.574018              -0.988630              -0.581962   \n",
       "4               0.684018              -0.696565               0.792696   \n",
       "\n",
       "   principal component 4  principal component 5  principal component 6  \n",
       "0              -2.355560              -0.716315               0.893129  \n",
       "1               1.404115              -0.646003               1.997172  \n",
       "2              -0.090444               0.180432              -0.104730  \n",
       "3               1.692238              -0.888623               0.797764  \n",
       "4              -0.160127               0.232912              -0.504604  "
      ]
     },
     "execution_count": 27,
     "metadata": {},
     "output_type": "execute_result"
    }
   ],
   "source": [
    "new_df_x=finalDf[['principal component 1','principal component 2'\n",
    "                   ,'principal component 3','principal component 4'\n",
    "                   ,'principal component 5','principal component 6']]\n",
    "new_df_y=finalDf['y']\n",
    "new_df_x.head()"
   ]
  },
  {
   "cell_type": "code",
   "execution_count": 28,
   "metadata": {},
   "outputs": [],
   "source": [
    "from sklearn.neighbors import KNeighborsClassifier\n",
    "from sklearn.model_selection import train_test_split\n",
    "\n",
    "knn = KNeighborsClassifier(n_neighbors = 9) "
   ]
  },
  {
   "cell_type": "code",
   "execution_count": 29,
   "metadata": {},
   "outputs": [],
   "source": [
    "from sklearn.model_selection import train_test_split\n",
    "from sklearn.linear_model import LogisticRegression\n",
    "from sklearn.neighbors import KNeighborsClassifier\n",
    "\n",
    "new_df_x_train, new_df_x_test, new_df_y_train, new_df_y_test = train_test_split(new_df_x, new_df_y, random_state = 42)"
   ]
  },
  {
   "cell_type": "code",
   "execution_count": 30,
   "metadata": {},
   "outputs": [
    {
     "data": {
      "text/plain": [
       "KNeighborsClassifier(algorithm='auto', leaf_size=30, metric='minkowski',\n",
       "                     metric_params=None, n_jobs=None, n_neighbors=9, p=2,\n",
       "                     weights='uniform')"
      ]
     },
     "execution_count": 30,
     "metadata": {},
     "output_type": "execute_result"
    }
   ],
   "source": [
    "knn_model = KNeighborsClassifier(n_neighbors = 9) \n",
    "\n",
    "knn_model.fit(new_df_x_train, new_df_y_train) # train our model to the data set we have. The training set is all the data points"
   ]
  },
  {
   "cell_type": "code",
   "execution_count": 31,
   "metadata": {},
   "outputs": [
    {
     "name": "stdout",
     "output_type": "stream",
     "text": [
      "[0. 0. 0. ... 0. 0. 0.]\n",
      "2468    0.0\n",
      "3782    0.0\n",
      "2859    0.0\n",
      "2363    0.0\n",
      "713     0.0\n",
      "       ... \n",
      "2398    0.0\n",
      "4159    1.0\n",
      "4058    0.0\n",
      "566     0.0\n",
      "1479    0.0\n",
      "Name: y, Length: 1027, dtype: float64\n"
     ]
    }
   ],
   "source": [
    "new_df_y_pred = knn_model.predict(new_df_x_test)\n",
    "print(new_df_y_pred) # our prediction\n",
    "print(new_df_y_test) # actual values"
   ]
  },
  {
   "cell_type": "code",
   "execution_count": 32,
   "metadata": {},
   "outputs": [
    {
     "name": "stdout",
     "output_type": "stream",
     "text": [
      "0.8860759493670886\n"
     ]
    }
   ],
   "source": [
    "from sklearn.metrics import accuracy_score\n",
    "print(accuracy_score(new_df_y_test, new_df_y_pred))"
   ]
  },
  {
   "cell_type": "code",
   "execution_count": 33,
   "metadata": {},
   "outputs": [
    {
     "name": "stdout",
     "output_type": "stream",
     "text": [
      "0.0029935836791992188\n"
     ]
    }
   ],
   "source": [
    "import time\n",
    "start = time.time()\n",
    "knn_model.fit(new_df_x_train, new_df_y_train)\n",
    "end= time.time()\n",
    "speed = end - start\n",
    "print(speed)"
   ]
  },
  {
   "cell_type": "code",
   "execution_count": 34,
   "metadata": {},
   "outputs": [
    {
     "data": {
      "text/plain": [
       "array([[910,   0],\n",
       "       [117,   0]], dtype=int64)"
      ]
     },
     "execution_count": 34,
     "metadata": {},
     "output_type": "execute_result"
    }
   ],
   "source": [
    "from sklearn.metrics import confusion_matrix\n",
    "confusion_matrix(new_df_y_test, new_df_y_pred)"
   ]
  },
  {
   "cell_type": "code",
   "execution_count": null,
   "metadata": {},
   "outputs": [],
   "source": []
  }
 ],
 "metadata": {
  "kernelspec": {
   "display_name": "Python 3",
   "language": "python",
   "name": "python3"
  },
  "language_info": {
   "codemirror_mode": {
    "name": "ipython",
    "version": 3
   },
   "file_extension": ".py",
   "mimetype": "text/x-python",
   "name": "python",
   "nbconvert_exporter": "python",
   "pygments_lexer": "ipython3",
   "version": "3.7.4"
  }
 },
 "nbformat": 4,
 "nbformat_minor": 2
}
