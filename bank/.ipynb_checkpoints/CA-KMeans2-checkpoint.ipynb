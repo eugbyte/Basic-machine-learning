{
 "cells": [
  {
   "cell_type": "markdown",
   "metadata": {},
   "source": [
    "# Before PCA"
   ]
  },
  {
   "cell_type": "code",
   "execution_count": 1,
   "metadata": {},
   "outputs": [],
   "source": [
    "#importing the libraries\n",
    "import numpy as np\n",
    "import matplotlib.pyplot as plt\n",
    "import pandas as pd\n",
    "from sklearn import datasets\n",
    "from sklearn.cluster import KMeans"
   ]
  },
  {
   "cell_type": "code",
   "execution_count": 2,
   "metadata": {},
   "outputs": [
    {
     "name": "stdout",
     "output_type": "stream",
     "text": [
      "   age          job  marital  education default  balance housing loan  \\\n",
      "0   30   unemployed  married    primary      no     1787      no   no   \n",
      "1   33     services  married  secondary      no     4789     yes  yes   \n",
      "2   35   management   single   tertiary      no     1350     yes   no   \n",
      "3   30   management  married   tertiary      no     1476     yes  yes   \n",
      "4   59  blue-collar  married  secondary      no        0     yes   no   \n",
      "\n",
      "    contact  day month  duration  campaign  pdays  previous poutcome   y  \n",
      "0  cellular   19   oct        79         1     -1         0  unknown  no  \n",
      "1  cellular   11   may       220         1    339         4  failure  no  \n",
      "2  cellular   16   apr       185         1    330         1  failure  no  \n",
      "3   unknown    3   jun       199         4     -1         0  unknown  no  \n",
      "4   unknown    5   may       226         1     -1         0  unknown  no  \n",
      "<class 'pandas.core.frame.DataFrame'>\n"
     ]
    }
   ],
   "source": [
    "df = pd.read_csv('bank.csv')\n",
    "print(df.head())\n",
    "print(type(df))"
   ]
  },
  {
   "cell_type": "code",
   "execution_count": 3,
   "metadata": {},
   "outputs": [
    {
     "data": {
      "text/html": [
       "<div>\n",
       "<style scoped>\n",
       "    .dataframe tbody tr th:only-of-type {\n",
       "        vertical-align: middle;\n",
       "    }\n",
       "\n",
       "    .dataframe tbody tr th {\n",
       "        vertical-align: top;\n",
       "    }\n",
       "\n",
       "    .dataframe thead th {\n",
       "        text-align: right;\n",
       "    }\n",
       "</style>\n",
       "<table border=\"1\" class=\"dataframe\">\n",
       "  <thead>\n",
       "    <tr style=\"text-align: right;\">\n",
       "      <th></th>\n",
       "      <th>age</th>\n",
       "      <th>job</th>\n",
       "      <th>marital</th>\n",
       "      <th>education</th>\n",
       "      <th>default</th>\n",
       "      <th>balance</th>\n",
       "      <th>housing</th>\n",
       "      <th>loan</th>\n",
       "      <th>y</th>\n",
       "    </tr>\n",
       "  </thead>\n",
       "  <tbody>\n",
       "    <tr>\n",
       "      <td>4516</td>\n",
       "      <td>33</td>\n",
       "      <td>services</td>\n",
       "      <td>married</td>\n",
       "      <td>secondary</td>\n",
       "      <td>no</td>\n",
       "      <td>-333</td>\n",
       "      <td>yes</td>\n",
       "      <td>no</td>\n",
       "      <td>no</td>\n",
       "    </tr>\n",
       "    <tr>\n",
       "      <td>4517</td>\n",
       "      <td>57</td>\n",
       "      <td>self-employed</td>\n",
       "      <td>married</td>\n",
       "      <td>tertiary</td>\n",
       "      <td>yes</td>\n",
       "      <td>-3313</td>\n",
       "      <td>yes</td>\n",
       "      <td>yes</td>\n",
       "      <td>no</td>\n",
       "    </tr>\n",
       "    <tr>\n",
       "      <td>4518</td>\n",
       "      <td>57</td>\n",
       "      <td>technician</td>\n",
       "      <td>married</td>\n",
       "      <td>secondary</td>\n",
       "      <td>no</td>\n",
       "      <td>295</td>\n",
       "      <td>no</td>\n",
       "      <td>no</td>\n",
       "      <td>no</td>\n",
       "    </tr>\n",
       "    <tr>\n",
       "      <td>4519</td>\n",
       "      <td>28</td>\n",
       "      <td>blue-collar</td>\n",
       "      <td>married</td>\n",
       "      <td>secondary</td>\n",
       "      <td>no</td>\n",
       "      <td>1137</td>\n",
       "      <td>no</td>\n",
       "      <td>no</td>\n",
       "      <td>no</td>\n",
       "    </tr>\n",
       "    <tr>\n",
       "      <td>4520</td>\n",
       "      <td>44</td>\n",
       "      <td>entrepreneur</td>\n",
       "      <td>single</td>\n",
       "      <td>tertiary</td>\n",
       "      <td>no</td>\n",
       "      <td>1136</td>\n",
       "      <td>yes</td>\n",
       "      <td>yes</td>\n",
       "      <td>no</td>\n",
       "    </tr>\n",
       "  </tbody>\n",
       "</table>\n",
       "</div>"
      ],
      "text/plain": [
       "      age            job  marital  education default  balance housing loan   y\n",
       "4516   33       services  married  secondary      no     -333     yes   no  no\n",
       "4517   57  self-employed  married   tertiary     yes    -3313     yes  yes  no\n",
       "4518   57     technician  married  secondary      no      295      no   no  no\n",
       "4519   28    blue-collar  married  secondary      no     1137      no   no  no\n",
       "4520   44   entrepreneur   single   tertiary      no     1136     yes  yes  no"
      ]
     },
     "execution_count": 3,
     "metadata": {},
     "output_type": "execute_result"
    }
   ],
   "source": [
    "df = df.drop(columns=['contact', 'day', 'month', 'duration', 'campaign', 'pdays', 'previous' , 'poutcome'])\n",
    "df.tail()"
   ]
  },
  {
   "cell_type": "code",
   "execution_count": 4,
   "metadata": {},
   "outputs": [
    {
     "data": {
      "text/html": [
       "<div>\n",
       "<style scoped>\n",
       "    .dataframe tbody tr th:only-of-type {\n",
       "        vertical-align: middle;\n",
       "    }\n",
       "\n",
       "    .dataframe tbody tr th {\n",
       "        vertical-align: top;\n",
       "    }\n",
       "\n",
       "    .dataframe thead th {\n",
       "        text-align: right;\n",
       "    }\n",
       "</style>\n",
       "<table border=\"1\" class=\"dataframe\">\n",
       "  <thead>\n",
       "    <tr style=\"text-align: right;\">\n",
       "      <th></th>\n",
       "      <th>age</th>\n",
       "      <th>job</th>\n",
       "      <th>marital</th>\n",
       "      <th>education</th>\n",
       "      <th>default</th>\n",
       "      <th>balance</th>\n",
       "      <th>housing</th>\n",
       "      <th>loan</th>\n",
       "      <th>y</th>\n",
       "    </tr>\n",
       "  </thead>\n",
       "  <tbody>\n",
       "    <tr>\n",
       "      <td>0</td>\n",
       "      <td>30</td>\n",
       "      <td>0.0</td>\n",
       "      <td>2</td>\n",
       "      <td>1.0</td>\n",
       "      <td>0</td>\n",
       "      <td>1787</td>\n",
       "      <td>0</td>\n",
       "      <td>0</td>\n",
       "      <td>0</td>\n",
       "    </tr>\n",
       "    <tr>\n",
       "      <td>1</td>\n",
       "      <td>33</td>\n",
       "      <td>1.0</td>\n",
       "      <td>2</td>\n",
       "      <td>2.0</td>\n",
       "      <td>0</td>\n",
       "      <td>4789</td>\n",
       "      <td>1</td>\n",
       "      <td>1</td>\n",
       "      <td>0</td>\n",
       "    </tr>\n",
       "    <tr>\n",
       "      <td>2</td>\n",
       "      <td>35</td>\n",
       "      <td>1.0</td>\n",
       "      <td>1</td>\n",
       "      <td>3.0</td>\n",
       "      <td>0</td>\n",
       "      <td>1350</td>\n",
       "      <td>1</td>\n",
       "      <td>0</td>\n",
       "      <td>0</td>\n",
       "    </tr>\n",
       "    <tr>\n",
       "      <td>3</td>\n",
       "      <td>30</td>\n",
       "      <td>1.0</td>\n",
       "      <td>2</td>\n",
       "      <td>3.0</td>\n",
       "      <td>0</td>\n",
       "      <td>1476</td>\n",
       "      <td>1</td>\n",
       "      <td>1</td>\n",
       "      <td>0</td>\n",
       "    </tr>\n",
       "    <tr>\n",
       "      <td>4</td>\n",
       "      <td>59</td>\n",
       "      <td>1.0</td>\n",
       "      <td>2</td>\n",
       "      <td>2.0</td>\n",
       "      <td>0</td>\n",
       "      <td>0</td>\n",
       "      <td>1</td>\n",
       "      <td>0</td>\n",
       "      <td>0</td>\n",
       "    </tr>\n",
       "  </tbody>\n",
       "</table>\n",
       "</div>"
      ],
      "text/plain": [
       "   age  job  marital  education  default  balance  housing  loan  y\n",
       "0   30  0.0        2        1.0        0     1787        0     0  0\n",
       "1   33  1.0        2        2.0        0     4789        1     1  0\n",
       "2   35  1.0        1        3.0        0     1350        1     0  0\n",
       "3   30  1.0        2        3.0        0     1476        1     1  0\n",
       "4   59  1.0        2        2.0        0        0        1     0  0"
      ]
     },
     "execution_count": 4,
     "metadata": {},
     "output_type": "execute_result"
    }
   ],
   "source": [
    "dict = {\n",
    "    'no': 0,\n",
    "    'yes': 1\n",
    "}\n",
    "\n",
    "dict_edu = {\n",
    "    'primary': 1,\n",
    "    'secondary':2,\n",
    "    'tertiary':3\n",
    "}\n",
    "\n",
    "dict_married = {\n",
    "    'single': 1,\n",
    "    'married': 2,\n",
    "    'divorced': 3\n",
    "}\n",
    "\n",
    "dict_job = {\n",
    "    'admin.': 1,\n",
    "    'unemployed': 0,\n",
    "    'management': 1,\n",
    "    'housemaid': 1,\n",
    "    'entrepreneur':1,\n",
    "    \"student\": 0,\n",
    "    \"blue-collar\": 1,\n",
    "    \"self-employed\": 1,\n",
    "    \"retired\": 0,\n",
    "    \"technician\":1,\n",
    "    \"services\":1\n",
    "}\n",
    "\n",
    "df['y'] = df['y'].map(dict)\n",
    "df['default'] = df['default'].map(dict)\n",
    "df['housing'] = df['housing'].map(dict)\n",
    "df['loan'] = df['loan'].map(dict)\n",
    "df['marital'] = df['marital'].map(dict_married)\n",
    "df['education'] = df['education'].map(dict_edu)\n",
    "df['job'] = df['job'].map(dict_job)\n",
    "#drop NaN columns\n",
    "df = df.dropna()\n",
    "df.head()"
   ]
  },
  {
   "cell_type": "markdown",
   "metadata": {},
   "source": [
    "## Impt\n",
    "### for cher wah's method to work, you must sort the original df by the category in question, i.e. 0 and 1, in ascending order"
   ]
  },
  {
   "cell_type": "code",
   "execution_count": 5,
   "metadata": {},
   "outputs": [
    {
     "data": {
      "text/html": [
       "<div>\n",
       "<style scoped>\n",
       "    .dataframe tbody tr th:only-of-type {\n",
       "        vertical-align: middle;\n",
       "    }\n",
       "\n",
       "    .dataframe tbody tr th {\n",
       "        vertical-align: top;\n",
       "    }\n",
       "\n",
       "    .dataframe thead th {\n",
       "        text-align: right;\n",
       "    }\n",
       "</style>\n",
       "<table border=\"1\" class=\"dataframe\">\n",
       "  <thead>\n",
       "    <tr style=\"text-align: right;\">\n",
       "      <th></th>\n",
       "      <th>age</th>\n",
       "      <th>job</th>\n",
       "      <th>marital</th>\n",
       "      <th>education</th>\n",
       "      <th>default</th>\n",
       "      <th>balance</th>\n",
       "      <th>housing</th>\n",
       "      <th>loan</th>\n",
       "      <th>y</th>\n",
       "    </tr>\n",
       "  </thead>\n",
       "  <tbody>\n",
       "    <tr>\n",
       "      <td>4306</td>\n",
       "      <td>71</td>\n",
       "      <td>0.0</td>\n",
       "      <td>2</td>\n",
       "      <td>3.0</td>\n",
       "      <td>0</td>\n",
       "      <td>14220</td>\n",
       "      <td>1</td>\n",
       "      <td>0</td>\n",
       "      <td>1</td>\n",
       "    </tr>\n",
       "    <tr>\n",
       "      <td>4307</td>\n",
       "      <td>31</td>\n",
       "      <td>1.0</td>\n",
       "      <td>1</td>\n",
       "      <td>3.0</td>\n",
       "      <td>0</td>\n",
       "      <td>12569</td>\n",
       "      <td>0</td>\n",
       "      <td>0</td>\n",
       "      <td>1</td>\n",
       "    </tr>\n",
       "    <tr>\n",
       "      <td>4308</td>\n",
       "      <td>49</td>\n",
       "      <td>1.0</td>\n",
       "      <td>3</td>\n",
       "      <td>3.0</td>\n",
       "      <td>0</td>\n",
       "      <td>755</td>\n",
       "      <td>0</td>\n",
       "      <td>0</td>\n",
       "      <td>1</td>\n",
       "    </tr>\n",
       "    <tr>\n",
       "      <td>4309</td>\n",
       "      <td>37</td>\n",
       "      <td>1.0</td>\n",
       "      <td>2</td>\n",
       "      <td>3.0</td>\n",
       "      <td>0</td>\n",
       "      <td>5355</td>\n",
       "      <td>0</td>\n",
       "      <td>0</td>\n",
       "      <td>1</td>\n",
       "    </tr>\n",
       "    <tr>\n",
       "      <td>4310</td>\n",
       "      <td>35</td>\n",
       "      <td>1.0</td>\n",
       "      <td>2</td>\n",
       "      <td>3.0</td>\n",
       "      <td>0</td>\n",
       "      <td>1265</td>\n",
       "      <td>1</td>\n",
       "      <td>0</td>\n",
       "      <td>1</td>\n",
       "    </tr>\n",
       "  </tbody>\n",
       "</table>\n",
       "</div>"
      ],
      "text/plain": [
       "      age  job  marital  education  default  balance  housing  loan  y\n",
       "4306   71  0.0        2        3.0        0    14220        1     0  1\n",
       "4307   31  1.0        1        3.0        0    12569        0     0  1\n",
       "4308   49  1.0        3        3.0        0      755        0     0  1\n",
       "4309   37  1.0        2        3.0        0     5355        0     0  1\n",
       "4310   35  1.0        2        3.0        0     1265        1     0  1"
      ]
     },
     "execution_count": 5,
     "metadata": {},
     "output_type": "execute_result"
    }
   ],
   "source": [
    "#sort table according to y value, and reset the index to ascending order\n",
    "df.sort_values(by=['y'], inplace=True)\n",
    "df = df.reset_index(drop=True)\n",
    "df.tail()"
   ]
  },
  {
   "cell_type": "code",
   "execution_count": 6,
   "metadata": {},
   "outputs": [
    {
     "name": "stdout",
     "output_type": "stream",
     "text": [
      "   age  job  marital  education  default  balance  housing  loan\n",
      "0   30  0.0        2        1.0        0     1787        0     0\n",
      "1   55  1.0        2        2.0        0       96        0     0\n",
      "2   39  1.0        2        3.0        0     -276        0     1\n",
      "3   58  0.0        2        2.0        0      413        0     0\n",
      "4   37  1.0        2        1.0        0      655        1     0\n"
     ]
    }
   ],
   "source": [
    "ds1_4 = df.iloc[:,0:8]\n",
    "print (ds1_4.head())"
   ]
  },
  {
   "cell_type": "code",
   "execution_count": 7,
   "metadata": {
    "scrolled": true
   },
   "outputs": [
    {
     "name": "stdout",
     "output_type": "stream",
     "text": [
      "<class 'numpy.ndarray'>\n",
      "[[ 3.000e+01  0.000e+00  2.000e+00  1.000e+00  0.000e+00  1.787e+03\n",
      "   0.000e+00  0.000e+00]\n",
      " [ 5.500e+01  1.000e+00  2.000e+00  2.000e+00  0.000e+00  9.600e+01\n",
      "   0.000e+00  0.000e+00]\n",
      " [ 3.900e+01  1.000e+00  2.000e+00  3.000e+00  0.000e+00 -2.760e+02\n",
      "   0.000e+00  1.000e+00]\n",
      " [ 5.800e+01  0.000e+00  2.000e+00  2.000e+00  0.000e+00  4.130e+02\n",
      "   0.000e+00  0.000e+00]\n",
      " [ 3.700e+01  1.000e+00  2.000e+00  1.000e+00  0.000e+00  6.550e+02\n",
      "   1.000e+00  0.000e+00]]\n"
     ]
    }
   ],
   "source": [
    "x = df.iloc[:, 0:8].values\n",
    "print(type(x))\n",
    "print(x[0:5,:])"
   ]
  },
  {
   "cell_type": "code",
   "execution_count": 8,
   "metadata": {},
   "outputs": [
    {
     "name": "stdout",
     "output_type": "stream",
     "text": [
      "<class 'numpy.ndarray'>\n",
      "(4311,)\n",
      "(4311, 8)\n",
      "[0 0 0 0 0 1 0 1 0 0 0 0 0 0 0 0 0 0 0 0 0 0 0 0 0 0 0 0 0 1 0 0 0 0 0 0 0\n",
      " 1 0 0 0 0 0 0 0 0 0 0 1 0 0 0 0 0 0 0 0 0 0 0 0 0 0 0 1 0 0 0 0 0 0 0 0 0\n",
      " 0 0 0 0 0 0 0 0 0 1 0 0 0 0 0 0 0 0 0 0 0 0 0 0 0 0]\n"
     ]
    }
   ],
   "source": [
    "import sys\n",
    "np.set_printoptions(threshold=sys.maxsize)\n",
    "km2 = KMeans(n_clusters = 2, init = 'k-means++', max_iter = 300, n_init = 10, random_state = 42)\n",
    "km2.fit(x)\n",
    "y_kmeans = km2.fit_predict(x)\n",
    "print(type(y_kmeans))\n",
    "print(y_kmeans.shape)\n",
    "print(ds1_4.shape)\n",
    "print(y_kmeans[0:100])"
   ]
  },
  {
   "cell_type": "code",
   "execution_count": 9,
   "metadata": {},
   "outputs": [
    {
     "data": {
      "text/html": [
       "<div>\n",
       "<style scoped>\n",
       "    .dataframe tbody tr th:only-of-type {\n",
       "        vertical-align: middle;\n",
       "    }\n",
       "\n",
       "    .dataframe tbody tr th {\n",
       "        vertical-align: top;\n",
       "    }\n",
       "\n",
       "    .dataframe thead th {\n",
       "        text-align: right;\n",
       "    }\n",
       "</style>\n",
       "<table border=\"1\" class=\"dataframe\">\n",
       "  <thead>\n",
       "    <tr style=\"text-align: right;\">\n",
       "      <th></th>\n",
       "      <th>age</th>\n",
       "      <th>job</th>\n",
       "      <th>marital</th>\n",
       "      <th>education</th>\n",
       "      <th>default</th>\n",
       "      <th>balance</th>\n",
       "      <th>housing</th>\n",
       "      <th>loan</th>\n",
       "    </tr>\n",
       "  </thead>\n",
       "  <tbody>\n",
       "    <tr>\n",
       "      <td>0</td>\n",
       "      <td>30</td>\n",
       "      <td>0.0</td>\n",
       "      <td>2</td>\n",
       "      <td>1.0</td>\n",
       "      <td>0</td>\n",
       "      <td>1787</td>\n",
       "      <td>0</td>\n",
       "      <td>0</td>\n",
       "    </tr>\n",
       "    <tr>\n",
       "      <td>1</td>\n",
       "      <td>55</td>\n",
       "      <td>1.0</td>\n",
       "      <td>2</td>\n",
       "      <td>2.0</td>\n",
       "      <td>0</td>\n",
       "      <td>96</td>\n",
       "      <td>0</td>\n",
       "      <td>0</td>\n",
       "    </tr>\n",
       "    <tr>\n",
       "      <td>2</td>\n",
       "      <td>39</td>\n",
       "      <td>1.0</td>\n",
       "      <td>2</td>\n",
       "      <td>3.0</td>\n",
       "      <td>0</td>\n",
       "      <td>-276</td>\n",
       "      <td>0</td>\n",
       "      <td>1</td>\n",
       "    </tr>\n",
       "    <tr>\n",
       "      <td>3</td>\n",
       "      <td>58</td>\n",
       "      <td>0.0</td>\n",
       "      <td>2</td>\n",
       "      <td>2.0</td>\n",
       "      <td>0</td>\n",
       "      <td>413</td>\n",
       "      <td>0</td>\n",
       "      <td>0</td>\n",
       "    </tr>\n",
       "    <tr>\n",
       "      <td>4</td>\n",
       "      <td>37</td>\n",
       "      <td>1.0</td>\n",
       "      <td>2</td>\n",
       "      <td>1.0</td>\n",
       "      <td>0</td>\n",
       "      <td>655</td>\n",
       "      <td>1</td>\n",
       "      <td>0</td>\n",
       "    </tr>\n",
       "  </tbody>\n",
       "</table>\n",
       "</div>"
      ],
      "text/plain": [
       "   age  job  marital  education  default  balance  housing  loan\n",
       "0   30  0.0        2        1.0        0     1787        0     0\n",
       "1   55  1.0        2        2.0        0       96        0     0\n",
       "2   39  1.0        2        3.0        0     -276        0     1\n",
       "3   58  0.0        2        2.0        0      413        0     0\n",
       "4   37  1.0        2        1.0        0      655        1     0"
      ]
     },
     "execution_count": 9,
     "metadata": {},
     "output_type": "execute_result"
    }
   ],
   "source": [
    "ds1_4[y_kmeans==0].head()"
   ]
  },
  {
   "cell_type": "code",
   "execution_count": 10,
   "metadata": {},
   "outputs": [
    {
     "name": "stdout",
     "output_type": "stream",
     "text": [
      "[[ 3.000e+01  0.000e+00  2.000e+00  1.000e+00  0.000e+00  1.787e+03\n",
      "   0.000e+00  0.000e+00]\n",
      " [ 5.500e+01  1.000e+00  2.000e+00  2.000e+00  0.000e+00  9.600e+01\n",
      "   0.000e+00  0.000e+00]\n",
      " [ 3.900e+01  1.000e+00  2.000e+00  3.000e+00  0.000e+00 -2.760e+02\n",
      "   0.000e+00  1.000e+00]\n",
      " [ 5.800e+01  0.000e+00  2.000e+00  2.000e+00  0.000e+00  4.130e+02\n",
      "   0.000e+00  0.000e+00]\n",
      " [ 3.700e+01  1.000e+00  2.000e+00  1.000e+00  0.000e+00  6.550e+02\n",
      "   1.000e+00  0.000e+00]]\n"
     ]
    }
   ],
   "source": [
    "x_head = x[0:5,:]\n",
    "print(x_head)"
   ]
  },
  {
   "cell_type": "markdown",
   "metadata": {},
   "source": [
    "## Impt\n",
    "## Calculating the accuracy\n"
   ]
  },
  {
   "cell_type": "code",
   "execution_count": 11,
   "metadata": {},
   "outputs": [],
   "source": [
    "km3 = KMeans(n_clusters = 2, init = 'k-means++', max_iter = 300, n_init = 10, random_state = 0)\n",
    "km3.fit(x)\n",
    "y_kmeans = km3.fit_predict(x)"
   ]
  },
  {
   "cell_type": "code",
   "execution_count": 12,
   "metadata": {},
   "outputs": [
    {
     "data": {
      "text/html": [
       "<div>\n",
       "<style scoped>\n",
       "    .dataframe tbody tr th:only-of-type {\n",
       "        vertical-align: middle;\n",
       "    }\n",
       "\n",
       "    .dataframe tbody tr th {\n",
       "        vertical-align: top;\n",
       "    }\n",
       "\n",
       "    .dataframe thead th {\n",
       "        text-align: right;\n",
       "    }\n",
       "</style>\n",
       "<table border=\"1\" class=\"dataframe\">\n",
       "  <thead>\n",
       "    <tr style=\"text-align: right;\">\n",
       "      <th></th>\n",
       "      <th>actual</th>\n",
       "      <th>predicted</th>\n",
       "    </tr>\n",
       "  </thead>\n",
       "  <tbody>\n",
       "    <tr>\n",
       "      <td>0</td>\n",
       "      <td>0</td>\n",
       "      <td>0</td>\n",
       "    </tr>\n",
       "    <tr>\n",
       "      <td>1</td>\n",
       "      <td>0</td>\n",
       "      <td>0</td>\n",
       "    </tr>\n",
       "    <tr>\n",
       "      <td>2</td>\n",
       "      <td>0</td>\n",
       "      <td>0</td>\n",
       "    </tr>\n",
       "    <tr>\n",
       "      <td>3</td>\n",
       "      <td>0</td>\n",
       "      <td>0</td>\n",
       "    </tr>\n",
       "    <tr>\n",
       "      <td>4</td>\n",
       "      <td>0</td>\n",
       "      <td>0</td>\n",
       "    </tr>\n",
       "  </tbody>\n",
       "</table>\n",
       "</div>"
      ],
      "text/plain": [
       "   actual  predicted\n",
       "0       0          0\n",
       "1       0          0\n",
       "2       0          0\n",
       "3       0          0\n",
       "4       0          0"
      ]
     },
     "execution_count": 12,
     "metadata": {},
     "output_type": "execute_result"
    }
   ],
   "source": [
    "#flatten the actual and predicted values of y into 1d array\n",
    "\n",
    "accuracy_table = pd.DataFrame(df['y'].to_numpy(), columns=['actual'])\n",
    "accuracy_table['predicted'] = y_kmeans\n",
    "accuracy_table.head()"
   ]
  },
  {
   "cell_type": "code",
   "execution_count": 13,
   "metadata": {},
   "outputs": [
    {
     "name": "stdout",
     "output_type": "stream",
     "text": [
      "---actual---\n",
      "0    100\n",
      "Name: actual, dtype: int64\n",
      "---predicted---\n",
      "0    93\n",
      "1     7\n",
      "Name: predicted, dtype: int64\n"
     ]
    }
   ],
   "source": [
    "#note that you do not know whether the 0 and 1 category for y_kmeans is equivalent to how we interpret 0 and 1. \n",
    "#We have have interpreted 0 as 'no' but the algorithim might interpret 0 as 'yes'\n",
    "\n",
    "#thus, need to double check that algorithm and us are on the same page as to the interpretation of '0'\n",
    "#let's just use the 1st 100 rows\n",
    "\n",
    "#find majority of value for each column in the accuracy table\n",
    "col_actual_sample = accuracy_table.iloc[0:100, 0]\n",
    "count_distinct_actual = col_actual_sample.value_counts()\n",
    "print(\"---actual---\")\n",
    "print(count_distinct_actual)\n",
    "\n",
    "col_predicted_sample = accuracy_table.iloc[0:100, 1]\n",
    "count_distinct_predicted = col_predicted_sample.value_counts()\n",
    "print(\"---predicted---\")\n",
    "print(count_distinct_predicted)\n",
    "\n",
    "#since majority for predicted is 0, and majority for actual is also 0, algorithim and us are on the same page as to\n",
    "#the interpretation of '0' and '1', with '0' being no and '1' being yes"
   ]
  },
  {
   "cell_type": "code",
   "execution_count": 14,
   "metadata": {},
   "outputs": [],
   "source": [
    "#split the accuracy table into 0 and 1s\n",
    "#note that the actual column of the accuracy table is already sorted by category value (i.e. 0, 1) in ascending order.\n",
    "#find the row index with the first occurence of 1 in the actual column of the accurracy table\n",
    "#sub-divide the predicted column of the accuracy table by the row index\n",
    "#Since the actual column is already sorted, any deviation in the corresponding predicted column is a \n",
    "#wrong prediction by the algorithm"
   ]
  },
  {
   "cell_type": "code",
   "execution_count": 15,
   "metadata": {},
   "outputs": [
    {
     "name": "stdout",
     "output_type": "stream",
     "text": [
      "3813\n",
      "1\n",
      "0\n"
     ]
    }
   ],
   "source": [
    "#row index with first occurence of '1'\n",
    "    #idxmax() returns the index of first occurrence of the maximum value in a Series\n",
    "row_index = df['y'].idxmax(axis=1)\n",
    "print(row_index)\n",
    "print(df['y'].iloc[row_index])\n",
    "print(df['y'].iloc[row_index - 1])\n",
    "\n",
    "#split the predicted column by the row index\n",
    "predicted_cat0 = accuracy_table.loc[0 : row_index, 'predicted']\n",
    "predicted_cat1 = accuracy_table.loc[row_index : , 'predicted']\n",
    "\n"
   ]
  },
  {
   "cell_type": "code",
   "execution_count": 16,
   "metadata": {},
   "outputs": [
    {
     "name": "stdout",
     "output_type": "stream",
     "text": [
      "0    3622\n",
      "1     192\n",
      "Name: predicted, dtype: int64\n",
      "0.9496591504981646\n"
     ]
    }
   ],
   "source": [
    "#calculate number of wrong predictions for first part of the predicted column\n",
    "\n",
    "    #count the occurences of the unique value\n",
    "count_distinct_predicted_cat0 = predicted_cat0.value_counts()\n",
    "print(count_distinct_predicted_cat0)\n",
    "    #get the maximum occurence\n",
    "cat0_max = count_distinct_predicted_cat0.max()\n",
    "cat0_accuracy = cat0_max / count_distinct_predicted_cat0.sum()\n",
    "print(cat0_accuracy)"
   ]
  },
  {
   "cell_type": "code",
   "execution_count": 17,
   "metadata": {},
   "outputs": [
    {
     "name": "stdout",
     "output_type": "stream",
     "text": [
      "0    480\n",
      "1     18\n",
      "Name: predicted, dtype: int64\n",
      "0.963855421686747\n"
     ]
    }
   ],
   "source": [
    "#calculate number of wrong predictions for second part of the predicted column\n",
    "\n",
    "    #count the occurences of the unique value\n",
    "count_distinct_predicted_cat1 = predicted_cat1.value_counts()\n",
    "print(count_distinct_predicted_cat1)\n",
    "    #get the maximum occurence\n",
    "cat1_max = count_distinct_predicted_cat1.max()\n",
    "cat1_accuracy = cat1_max / count_distinct_predicted_cat1.sum()\n",
    "print(cat1_accuracy)"
   ]
  },
  {
   "cell_type": "markdown",
   "metadata": {},
   "source": [
    "## Abstracting the method"
   ]
  },
  {
   "cell_type": "code",
   "execution_count": 18,
   "metadata": {},
   "outputs": [],
   "source": [
    "def generate_accuracy_table(y_pred):\n",
    "    accuracy_table = pd.DataFrame(df['y'].to_numpy(), columns=['actual'])\n",
    "    import copy\n",
    "    y_pred2 = copy.deepcopy(y_pred)\n",
    "    accuracy_table['predicted'] = y_pred2\n",
    "    accuracy_table.head()\n",
    "    return accuracy_table"
   ]
  },
  {
   "cell_type": "code",
   "execution_count": 19,
   "metadata": {},
   "outputs": [],
   "source": [
    "def preview_distinct_values(accuracy_table):\n",
    "    col_actual_sample = accuracy_table.iloc[0:100, 0]\n",
    "    count_distinct_actual = col_actual_sample.value_counts()\n",
    "    print(\"---actual---\")\n",
    "    print(count_distinct_actual)\n",
    "\n",
    "    col_predicted_sample = accuracy_table.iloc[0:100, 1]\n",
    "    count_distinct_predicted = col_predicted_sample.value_counts()\n",
    "    print(\"---predicted---\")\n",
    "    print(count_distinct_predicted)"
   ]
  },
  {
   "cell_type": "code",
   "execution_count": 20,
   "metadata": {},
   "outputs": [],
   "source": [
    "#note that this method only works where there are 2 categories\n",
    "def calculate_accuracy_for_2_categories(accuracy_table):\n",
    "    row_index = df['y'].idxmax(axis=1)\n",
    "    predicted_cat0 = accuracy_table.loc[0 : row_index, 'predicted']\n",
    "    predicted_cat1 = accuracy_table.loc[row_index : , 'predicted']\n",
    "    \n",
    "    from statistics import mean \n",
    "    total_accuracy = []\n",
    "    \n",
    "    for cat in [predicted_cat0, predicted_cat1]:\n",
    "        count_distinct_predicted_cat = cat.value_counts()\n",
    "        print(count_distinct_predicted_cat)\n",
    "            #get the maximum occurence\n",
    "        cat_max = count_distinct_predicted_cat.max()\n",
    "        cat_accuracy = cat_max / count_distinct_predicted_cat.sum()\n",
    "        print(cat_accuracy)\n",
    "        total_accuracy.append(cat_accuracy)\n",
    "    print('total accuracy:', mean(total_accuracy))"
   ]
  },
  {
   "cell_type": "code",
   "execution_count": 21,
   "metadata": {},
   "outputs": [
    {
     "name": "stdout",
     "output_type": "stream",
     "text": [
      "---actual---\n",
      "0    100\n",
      "Name: actual, dtype: int64\n",
      "---predicted---\n",
      "0    93\n",
      "1     7\n",
      "Name: predicted, dtype: int64\n",
      "0    3622\n",
      "1     192\n",
      "Name: predicted, dtype: int64\n",
      "0.9496591504981646\n",
      "0    480\n",
      "1     18\n",
      "Name: predicted, dtype: int64\n",
      "0.963855421686747\n",
      "total accuracy: 0.9567572860924558\n"
     ]
    }
   ],
   "source": [
    "accuracy_table = generate_accuracy_table(y_kmeans)\n",
    "preview_distinct_values(accuracy_table)\n",
    "calculate_accuracy_for_2_categories(accuracy_table)"
   ]
  },
  {
   "cell_type": "markdown",
   "metadata": {},
   "source": [
    "## Visualizing the clusters"
   ]
  },
  {
   "cell_type": "code",
   "execution_count": 22,
   "metadata": {},
   "outputs": [
    {
     "name": "stdout",
     "output_type": "stream",
     "text": [
      "Index(['age', 'job', 'marital', 'education', 'default', 'balance', 'housing',\n",
      "       'loan', 'y'],\n",
      "      dtype='object')\n"
     ]
    },
    {
     "data": {
      "image/png": "[encoded data removed]",
      "text/plain": [
       "<Figure size 432x288 with 1 Axes>"
      ]
     },
     "metadata": {
      "needs_background": "light"
     },
     "output_type": "display_data"
    }
   ],
   "source": [
    "#Visualising the clusters by selecting only column 0 and 1\n",
    "plt.scatter(x[y_kmeans == 0, 0], x[y_kmeans == 0, 1], s = 20, c = 'red', label = 'Cluster 1')\n",
    "plt.scatter(x[y_kmeans == 1, 0], x[y_kmeans == 1, 1], s = 20, c = 'blue', label = 'Cluster 2')\n",
    "\n",
    "#Plotting the centroids of the clusters\n",
    "plt.scatter(km2.cluster_centers_[:, 0], km2.cluster_centers_[:,1], s = 50, c = 'yellow', label = 'Centroids')\n",
    "print (df.columns)\n",
    "plt.title('Bank clusters based on age and job')\n",
    "plt.xlabel(df.columns[0])\n",
    "plt.ylabel(df.columns[1])\n",
    "\n",
    "plt.legend()\n",
    "plt.show()"
   ]
  },
  {
   "cell_type": "code",
   "execution_count": 23,
   "metadata": {},
   "outputs": [
    {
     "name": "stdout",
     "output_type": "stream",
     "text": [
      "Index(['age', 'job', 'marital', 'education', 'default', 'balance', 'housing',\n",
      "       'loan', 'y'],\n",
      "      dtype='object')\n"
     ]
    },
    {
     "data": {
      "image/png": "[encoded data removed]",
      "text/plain": [
       "<Figure size 432x288 with 1 Axes>"
      ]
     },
     "metadata": {
      "needs_background": "light"
     },
     "output_type": "display_data"
    }
   ],
   "source": [
    "plt.scatter(x[y_kmeans == 0, 2], x[y_kmeans == 0, 3], s = 20, c = 'red', label = 'Cluster 1')\n",
    "plt.scatter(x[y_kmeans == 1, 2], x[y_kmeans == 1, 3], s = 20, c = 'blue', label = 'Cluster 2')\n",
    "\n",
    "#Plotting the centroids of the clusters\n",
    "plt.scatter(km2.cluster_centers_[:, 2], km2.cluster_centers_[:,3], s = 50, c = 'yellow', label = 'Centroids')\n",
    "print (df.columns)\n",
    "plt.title('Bank clusters based on marital and education')\n",
    "plt.xlabel(df.columns[2])\n",
    "plt.ylabel(df.columns[3])\n",
    "\n",
    "plt.legend()\n",
    "plt.show()"
   ]
  },
  {
   "cell_type": "code",
   "execution_count": 24,
   "metadata": {},
   "outputs": [
    {
     "name": "stdout",
     "output_type": "stream",
     "text": [
      "Index(['age', 'job', 'marital', 'education', 'default', 'balance', 'housing',\n",
      "       'loan', 'y'],\n",
      "      dtype='object')\n"
     ]
    },
    {
     "data": {
      "image/png": "[encoded data removed]",
      "text/plain": [
       "<Figure size 432x288 with 1 Axes>"
      ]
     },
     "metadata": {
      "needs_background": "light"
     },
     "output_type": "display_data"
    }
   ],
   "source": [
    "plt.scatter(x[y_kmeans == 0, 4], x[y_kmeans == 0, 5], s = 20, c = 'red', label = 'Cluster 1')\n",
    "plt.scatter(x[y_kmeans == 1, 4], x[y_kmeans == 1, 5], s = 20, c = 'blue', label = 'Cluster 2')\n",
    "\n",
    "#Plotting the centroids of the clusters\n",
    "plt.scatter(km2.cluster_centers_[:, 4], km2.cluster_centers_[:,5], s = 50, c = 'yellow', label = 'Centroids')\n",
    "print (df.columns)\n",
    "plt.title('Bank clusters based on default and balance status')\n",
    "plt.xlabel(df.columns[4])\n",
    "plt.ylabel(df.columns[5])\n",
    "plt.legend()\n",
    "plt.show()"
   ]
  },
  {
   "cell_type": "code",
   "execution_count": 25,
   "metadata": {},
   "outputs": [
    {
     "name": "stdout",
     "output_type": "stream",
     "text": [
      "Index(['age', 'job', 'marital', 'education', 'default', 'balance', 'housing',\n",
      "       'loan', 'y'],\n",
      "      dtype='object')\n"
     ]
    },
    {
     "data": {
      "image/png": "[encoded data removed]",
      "text/plain": [
       "<Figure size 432x288 with 1 Axes>"
      ]
     },
     "metadata": {
      "needs_background": "light"
     },
     "output_type": "display_data"
    }
   ],
   "source": [
    "plt.scatter(x[y_kmeans == 0, 6], x[y_kmeans == 0, 7], s = 20, c = 'red', label = 'Cluster 1')\n",
    "plt.scatter(x[y_kmeans == 1, 6], x[y_kmeans == 1, 7], s = 20, c = 'blue', label = 'Cluster 2')\n",
    "\n",
    "#Plotting the centroids of the clusters\n",
    "plt.scatter(km2.cluster_centers_[:, 6], km2.cluster_centers_[:,7], s = 50, c = 'yellow', label = 'Centroids')\n",
    "print (df.columns)\n",
    "plt.title('Bank clusters based on housing and loan status')\n",
    "plt.xlabel(df.columns[6])\n",
    "plt.ylabel(df.columns[7])\n",
    "\n",
    "plt.legend()\n",
    "plt.show()"
   ]
  },
  {
   "cell_type": "code",
   "execution_count": 26,
   "metadata": {},
   "outputs": [
    {
     "data": {
      "image/png": "[encoded data removed]",
      "text/plain": [
       "<Figure size 432x288 with 1 Axes>"
      ]
     },
     "metadata": {
      "needs_background": "light"
     },
     "output_type": "display_data"
    }
   ],
   "source": [
    "#Finding the optimum number of clusters for k-means classification\n",
    "from sklearn.cluster import KMeans\n",
    "wcss = []\n",
    "\n",
    "# Trying kmeans for k=1 to k=10\n",
    "for i in range(1, 11):\n",
    "    kmeans = KMeans(n_clusters = i, init = 'k-means++', max_iter = 300, n_init = 10, random_state = 0)\n",
    "    kmeans.fit(x)\n",
    "    wcss.append(kmeans.inertia_)\n",
    "    \n",
    "#Plotting the results onto a line graph, allowing us to observe 'The elbow'\n",
    "plt.plot(range(1, 11), wcss)\n",
    "plt.title('The elbow method')\n",
    "plt.xlabel('Number of clusters')\n",
    "plt.ylabel('WCSS') #within cluster sum of squares\n",
    "plt.show()"
   ]
  },
  {
   "cell_type": "code",
   "execution_count": 27,
   "metadata": {},
   "outputs": [],
   "source": [
    "#Applying kmeans to the dataset / Creating the kmeans classifier\n",
    "kmeans = KMeans(n_clusters = 3, init = 'k-means++', max_iter = 300, n_init = 10, random_state = 0)\n",
    "y_kmeans = kmeans.fit_predict(x)"
   ]
  },
  {
   "cell_type": "code",
   "execution_count": 28,
   "metadata": {},
   "outputs": [
    {
     "data": {
      "text/plain": [
       "<matplotlib.legend.Legend at 0x26a83f263c8>"
      ]
     },
     "execution_count": 28,
     "metadata": {},
     "output_type": "execute_result"
    },
    {
     "data": {
      "image/png": "[encoded data removed]",
      "text/plain": [
       "<Figure size 432x288 with 1 Axes>"
      ]
     },
     "metadata": {
      "needs_background": "light"
     },
     "output_type": "display_data"
    }
   ],
   "source": [
    "#Visualising the clusters\n",
    "plt.scatter(x[y_kmeans == 0, 0], x[y_kmeans == 0, 1], s = 20, c = 'red', label = 'Cluster 0')\n",
    "plt.scatter(x[y_kmeans == 1, 0], x[y_kmeans == 1, 1], s = 20, c = 'blue', label = 'Cluster 1')\n",
    "plt.scatter(x[y_kmeans == 2, 0], x[y_kmeans == 2, 1], s = 20, c = 'green', label = 'Cluster 2')\n",
    "plt.scatter(kmeans.cluster_centers_[:, 0], kmeans.cluster_centers_[:,1], s = 100, c = 'yellow', label = 'Centroids')\n",
    "\n",
    "plt.legend()"
   ]
  },
  {
   "cell_type": "code",
   "execution_count": 29,
   "metadata": {},
   "outputs": [],
   "source": [
    "#Applying kmeans to the dataset / Creating the kmeans classifier\n",
    "kmeans = KMeans(n_clusters = 3, init = 'k-means++', max_iter = 300, n_init = 10, random_state = 0)\n",
    "y_kmeans = kmeans.fit_predict(x)\n",
    "#print(y_kmeans)"
   ]
  },
  {
   "cell_type": "code",
   "execution_count": 30,
   "metadata": {},
   "outputs": [
    {
     "name": "stdout",
     "output_type": "stream",
     "text": [
      "0.15481948852539062\n"
     ]
    }
   ],
   "source": [
    "import time\n",
    "start = time.time()\n",
    "kmeans.fit(x)\n",
    "end= time.time()\n",
    "speed = end - start\n",
    "print(speed)"
   ]
  },
  {
   "cell_type": "markdown",
   "metadata": {},
   "source": [
    "# After PCA"
   ]
  },
  {
   "cell_type": "code",
   "execution_count": 31,
   "metadata": {},
   "outputs": [],
   "source": [
    "train_data=[df]\n",
    "for dataset in train_data:\n",
    "    dataset.loc[ dataset['age'] <= 22,'age'] = 0,\n",
    "    dataset.loc[(dataset['age'] >  22) & (dataset['age'] <= 30),'age'] = 1,\n",
    "    dataset.loc[(dataset['age'] > 30) & (dataset['age'] <= 40),'age'] = 2,\n",
    "    dataset.loc[(dataset['age'] > 40 ) & (dataset['age'] <= 50),'age'] = 3,\n",
    "    dataset.loc[(dataset['age'] > 50 ) & (dataset['age'] <= 60),'age'] = 4,\n",
    "    dataset.loc[(dataset['age'] > 60 ) & (dataset['age'] <= 70),'age'] = 5,\n",
    "    dataset.loc[ dataset['age'] > 70,'age'] = 6"
   ]
  },
  {
   "cell_type": "code",
   "execution_count": 32,
   "metadata": {},
   "outputs": [
    {
     "name": "stdout",
     "output_type": "stream",
     "text": [
      "Index(['age', 'job', 'marital', 'education', 'default', 'balance', 'housing',\n",
      "       'loan', 'y'],\n",
      "      dtype='object')\n"
     ]
    },
    {
     "data": {
      "text/html": [
       "<div>\n",
       "<style scoped>\n",
       "    .dataframe tbody tr th:only-of-type {\n",
       "        vertical-align: middle;\n",
       "    }\n",
       "\n",
       "    .dataframe tbody tr th {\n",
       "        vertical-align: top;\n",
       "    }\n",
       "\n",
       "    .dataframe thead th {\n",
       "        text-align: right;\n",
       "    }\n",
       "</style>\n",
       "<table border=\"1\" class=\"dataframe\">\n",
       "  <thead>\n",
       "    <tr style=\"text-align: right;\">\n",
       "      <th></th>\n",
       "      <th>age</th>\n",
       "      <th>job</th>\n",
       "      <th>marital</th>\n",
       "      <th>education</th>\n",
       "      <th>default</th>\n",
       "      <th>balance</th>\n",
       "      <th>housing</th>\n",
       "      <th>loan</th>\n",
       "      <th>y</th>\n",
       "    </tr>\n",
       "  </thead>\n",
       "  <tbody>\n",
       "    <tr>\n",
       "      <td>count</td>\n",
       "      <td>4311.000000</td>\n",
       "      <td>4311.000000</td>\n",
       "      <td>4311.000000</td>\n",
       "      <td>4311.000000</td>\n",
       "      <td>4311.000000</td>\n",
       "      <td>4311.000000</td>\n",
       "      <td>4311.000000</td>\n",
       "      <td>4311.000000</td>\n",
       "      <td>4311.000000</td>\n",
       "    </tr>\n",
       "    <tr>\n",
       "      <td>mean</td>\n",
       "      <td>2.543261</td>\n",
       "      <td>0.904894</td>\n",
       "      <td>1.851311</td>\n",
       "      <td>2.155648</td>\n",
       "      <td>0.016933</td>\n",
       "      <td>1410.662723</td>\n",
       "      <td>0.574113</td>\n",
       "      <td>0.158432</td>\n",
       "      <td>0.115518</td>\n",
       "    </tr>\n",
       "    <tr>\n",
       "      <td>std</td>\n",
       "      <td>1.059011</td>\n",
       "      <td>0.293395</td>\n",
       "      <td>0.600017</td>\n",
       "      <td>0.665448</td>\n",
       "      <td>0.129037</td>\n",
       "      <td>3015.650889</td>\n",
       "      <td>0.494534</td>\n",
       "      <td>0.365188</td>\n",
       "      <td>0.319684</td>\n",
       "    </tr>\n",
       "    <tr>\n",
       "      <td>min</td>\n",
       "      <td>0.000000</td>\n",
       "      <td>0.000000</td>\n",
       "      <td>1.000000</td>\n",
       "      <td>1.000000</td>\n",
       "      <td>0.000000</td>\n",
       "      <td>-3313.000000</td>\n",
       "      <td>0.000000</td>\n",
       "      <td>0.000000</td>\n",
       "      <td>0.000000</td>\n",
       "    </tr>\n",
       "    <tr>\n",
       "      <td>25%</td>\n",
       "      <td>2.000000</td>\n",
       "      <td>1.000000</td>\n",
       "      <td>1.000000</td>\n",
       "      <td>2.000000</td>\n",
       "      <td>0.000000</td>\n",
       "      <td>66.500000</td>\n",
       "      <td>0.000000</td>\n",
       "      <td>0.000000</td>\n",
       "      <td>0.000000</td>\n",
       "    </tr>\n",
       "    <tr>\n",
       "      <td>50%</td>\n",
       "      <td>2.000000</td>\n",
       "      <td>1.000000</td>\n",
       "      <td>2.000000</td>\n",
       "      <td>2.000000</td>\n",
       "      <td>0.000000</td>\n",
       "      <td>440.000000</td>\n",
       "      <td>1.000000</td>\n",
       "      <td>0.000000</td>\n",
       "      <td>0.000000</td>\n",
       "    </tr>\n",
       "    <tr>\n",
       "      <td>75%</td>\n",
       "      <td>3.000000</td>\n",
       "      <td>1.000000</td>\n",
       "      <td>2.000000</td>\n",
       "      <td>3.000000</td>\n",
       "      <td>0.000000</td>\n",
       "      <td>1456.000000</td>\n",
       "      <td>1.000000</td>\n",
       "      <td>0.000000</td>\n",
       "      <td>0.000000</td>\n",
       "    </tr>\n",
       "    <tr>\n",
       "      <td>max</td>\n",
       "      <td>6.000000</td>\n",
       "      <td>1.000000</td>\n",
       "      <td>3.000000</td>\n",
       "      <td>3.000000</td>\n",
       "      <td>1.000000</td>\n",
       "      <td>71188.000000</td>\n",
       "      <td>1.000000</td>\n",
       "      <td>1.000000</td>\n",
       "      <td>1.000000</td>\n",
       "    </tr>\n",
       "  </tbody>\n",
       "</table>\n",
       "</div>"
      ],
      "text/plain": [
       "               age          job      marital    education      default  \\\n",
       "count  4311.000000  4311.000000  4311.000000  4311.000000  4311.000000   \n",
       "mean      2.543261     0.904894     1.851311     2.155648     0.016933   \n",
       "std       1.059011     0.293395     0.600017     0.665448     0.129037   \n",
       "min       0.000000     0.000000     1.000000     1.000000     0.000000   \n",
       "25%       2.000000     1.000000     1.000000     2.000000     0.000000   \n",
       "50%       2.000000     1.000000     2.000000     2.000000     0.000000   \n",
       "75%       3.000000     1.000000     2.000000     3.000000     0.000000   \n",
       "max       6.000000     1.000000     3.000000     3.000000     1.000000   \n",
       "\n",
       "            balance      housing         loan            y  \n",
       "count   4311.000000  4311.000000  4311.000000  4311.000000  \n",
       "mean    1410.662723     0.574113     0.158432     0.115518  \n",
       "std     3015.650889     0.494534     0.365188     0.319684  \n",
       "min    -3313.000000     0.000000     0.000000     0.000000  \n",
       "25%       66.500000     0.000000     0.000000     0.000000  \n",
       "50%      440.000000     1.000000     0.000000     0.000000  \n",
       "75%     1456.000000     1.000000     0.000000     0.000000  \n",
       "max    71188.000000     1.000000     1.000000     1.000000  "
      ]
     },
     "execution_count": 32,
     "metadata": {},
     "output_type": "execute_result"
    }
   ],
   "source": [
    "print(df.columns)\n",
    "df.describe()\n",
    "#print(df)"
   ]
  },
  {
   "cell_type": "code",
   "execution_count": 33,
   "metadata": {},
   "outputs": [
    {
     "data": {
      "text/html": [
       "<div>\n",
       "<style scoped>\n",
       "    .dataframe tbody tr th:only-of-type {\n",
       "        vertical-align: middle;\n",
       "    }\n",
       "\n",
       "    .dataframe tbody tr th {\n",
       "        vertical-align: top;\n",
       "    }\n",
       "\n",
       "    .dataframe thead th {\n",
       "        text-align: right;\n",
       "    }\n",
       "</style>\n",
       "<table border=\"1\" class=\"dataframe\">\n",
       "  <thead>\n",
       "    <tr style=\"text-align: right;\">\n",
       "      <th></th>\n",
       "      <th>age</th>\n",
       "      <th>job</th>\n",
       "      <th>marital</th>\n",
       "      <th>education</th>\n",
       "      <th>default</th>\n",
       "      <th>balance</th>\n",
       "      <th>housing</th>\n",
       "      <th>loan</th>\n",
       "    </tr>\n",
       "  </thead>\n",
       "  <tbody>\n",
       "    <tr>\n",
       "      <td>0</td>\n",
       "      <td>-1.457436</td>\n",
       "      <td>-3.084580</td>\n",
       "      <td>0.247837</td>\n",
       "      <td>-1.736848</td>\n",
       "      <td>-0.131244</td>\n",
       "      <td>0.124809</td>\n",
       "      <td>-1.161051</td>\n",
       "      <td>-0.433887</td>\n",
       "    </tr>\n",
       "    <tr>\n",
       "      <td>1</td>\n",
       "      <td>1.375725</td>\n",
       "      <td>0.324193</td>\n",
       "      <td>0.247837</td>\n",
       "      <td>-0.233927</td>\n",
       "      <td>-0.131244</td>\n",
       "      <td>-0.435997</td>\n",
       "      <td>-1.161051</td>\n",
       "      <td>-0.433887</td>\n",
       "    </tr>\n",
       "    <tr>\n",
       "      <td>2</td>\n",
       "      <td>-0.513049</td>\n",
       "      <td>0.324193</td>\n",
       "      <td>0.247837</td>\n",
       "      <td>1.268994</td>\n",
       "      <td>-0.131244</td>\n",
       "      <td>-0.559368</td>\n",
       "      <td>-1.161051</td>\n",
       "      <td>2.304747</td>\n",
       "    </tr>\n",
       "    <tr>\n",
       "      <td>3</td>\n",
       "      <td>1.375725</td>\n",
       "      <td>-3.084580</td>\n",
       "      <td>0.247837</td>\n",
       "      <td>-0.233927</td>\n",
       "      <td>-0.131244</td>\n",
       "      <td>-0.330867</td>\n",
       "      <td>-1.161051</td>\n",
       "      <td>-0.433887</td>\n",
       "    </tr>\n",
       "    <tr>\n",
       "      <td>4</td>\n",
       "      <td>-0.513049</td>\n",
       "      <td>0.324193</td>\n",
       "      <td>0.247837</td>\n",
       "      <td>-1.736848</td>\n",
       "      <td>-0.131244</td>\n",
       "      <td>-0.250609</td>\n",
       "      <td>0.861289</td>\n",
       "      <td>-0.433887</td>\n",
       "    </tr>\n",
       "  </tbody>\n",
       "</table>\n",
       "</div>"
      ],
      "text/plain": [
       "        age       job   marital  education   default   balance   housing  \\\n",
       "0 -1.457436 -3.084580  0.247837  -1.736848 -0.131244  0.124809 -1.161051   \n",
       "1  1.375725  0.324193  0.247837  -0.233927 -0.131244 -0.435997 -1.161051   \n",
       "2 -0.513049  0.324193  0.247837   1.268994 -0.131244 -0.559368 -1.161051   \n",
       "3  1.375725 -3.084580  0.247837  -0.233927 -0.131244 -0.330867 -1.161051   \n",
       "4 -0.513049  0.324193  0.247837  -1.736848 -0.131244 -0.250609  0.861289   \n",
       "\n",
       "       loan  \n",
       "0 -0.433887  \n",
       "1 -0.433887  \n",
       "2  2.304747  \n",
       "3 -0.433887  \n",
       "4 -0.433887  "
      ]
     },
     "execution_count": 33,
     "metadata": {},
     "output_type": "execute_result"
    }
   ],
   "source": [
    "from sklearn.preprocessing import StandardScaler\n",
    "features = ['age','job','marital','education','default','balance','housing','loan']\n",
    "x = df.loc[:,features].values\n",
    "y = df.loc[:,['y']].values\n",
    "x = StandardScaler().fit_transform(x)\n",
    "pd.DataFrame(data=x, columns = features).head()"
   ]
  },
  {
   "cell_type": "code",
   "execution_count": 34,
   "metadata": {},
   "outputs": [
    {
     "data": {
      "text/html": [
       "<div>\n",
       "<style scoped>\n",
       "    .dataframe tbody tr th:only-of-type {\n",
       "        vertical-align: middle;\n",
       "    }\n",
       "\n",
       "    .dataframe tbody tr th {\n",
       "        vertical-align: top;\n",
       "    }\n",
       "\n",
       "    .dataframe thead th {\n",
       "        text-align: right;\n",
       "    }\n",
       "</style>\n",
       "<table border=\"1\" class=\"dataframe\">\n",
       "  <thead>\n",
       "    <tr style=\"text-align: right;\">\n",
       "      <th></th>\n",
       "      <th>principal component 1</th>\n",
       "      <th>principal component 2</th>\n",
       "      <th>principal component 3</th>\n",
       "      <th>principal component 4</th>\n",
       "      <th>principal component 5</th>\n",
       "      <th>principal component 6</th>\n",
       "    </tr>\n",
       "  </thead>\n",
       "  <tbody>\n",
       "    <tr>\n",
       "      <td>0</td>\n",
       "      <td>1.325828</td>\n",
       "      <td>1.055645</td>\n",
       "      <td>-0.816110</td>\n",
       "      <td>-2.355560</td>\n",
       "      <td>-0.716315</td>\n",
       "      <td>0.893129</td>\n",
       "    </tr>\n",
       "    <tr>\n",
       "      <td>1</td>\n",
       "      <td>1.209662</td>\n",
       "      <td>0.278829</td>\n",
       "      <td>-0.196454</td>\n",
       "      <td>0.120828</td>\n",
       "      <td>-0.101938</td>\n",
       "      <td>-0.937557</td>\n",
       "    </tr>\n",
       "    <tr>\n",
       "      <td>2</td>\n",
       "      <td>-0.492116</td>\n",
       "      <td>-0.304181</td>\n",
       "      <td>-1.710125</td>\n",
       "      <td>1.911574</td>\n",
       "      <td>-1.378135</td>\n",
       "      <td>-0.113853</td>\n",
       "    </tr>\n",
       "    <tr>\n",
       "      <td>3</td>\n",
       "      <td>2.627317</td>\n",
       "      <td>1.346726</td>\n",
       "      <td>-1.077820</td>\n",
       "      <td>-1.236611</td>\n",
       "      <td>-0.522834</td>\n",
       "      <td>-0.225545</td>\n",
       "    </tr>\n",
       "    <tr>\n",
       "      <td>4</td>\n",
       "      <td>-0.027645</td>\n",
       "      <td>-1.105560</td>\n",
       "      <td>1.035690</td>\n",
       "      <td>-1.210348</td>\n",
       "      <td>0.012388</td>\n",
       "      <td>0.376838</td>\n",
       "    </tr>\n",
       "  </tbody>\n",
       "</table>\n",
       "</div>"
      ],
      "text/plain": [
       "   principal component 1  principal component 2  principal component 3  \\\n",
       "0               1.325828               1.055645              -0.816110   \n",
       "1               1.209662               0.278829              -0.196454   \n",
       "2              -0.492116              -0.304181              -1.710125   \n",
       "3               2.627317               1.346726              -1.077820   \n",
       "4              -0.027645              -1.105560               1.035690   \n",
       "\n",
       "   principal component 4  principal component 5  principal component 6  \n",
       "0              -2.355560              -0.716315               0.893129  \n",
       "1               0.120828              -0.101938              -0.937557  \n",
       "2               1.911574              -1.378135              -0.113853  \n",
       "3              -1.236611              -0.522834              -0.225545  \n",
       "4              -1.210348               0.012388               0.376838  "
      ]
     },
     "execution_count": 34,
     "metadata": {},
     "output_type": "execute_result"
    }
   ],
   "source": [
    "from sklearn.decomposition import PCA\n",
    "pca = PCA(n_components=6)\n",
    "principalComponents = pca.fit_transform(x)\n",
    "principalDf = pd.DataFrame(data = principalComponents, columns = ['principal component 1','principal component 2'\n",
    "                                                                  ,'principal component 3','principal component 4'\n",
    "                                                                  ,'principal component 5','principal component 6'])\n",
    "principalDf.head()"
   ]
  },
  {
   "cell_type": "code",
   "execution_count": 35,
   "metadata": {},
   "outputs": [
    {
     "data": {
      "text/html": [
       "<div>\n",
       "<style scoped>\n",
       "    .dataframe tbody tr th:only-of-type {\n",
       "        vertical-align: middle;\n",
       "    }\n",
       "\n",
       "    .dataframe tbody tr th {\n",
       "        vertical-align: top;\n",
       "    }\n",
       "\n",
       "    .dataframe thead th {\n",
       "        text-align: right;\n",
       "    }\n",
       "</style>\n",
       "<table border=\"1\" class=\"dataframe\">\n",
       "  <thead>\n",
       "    <tr style=\"text-align: right;\">\n",
       "      <th></th>\n",
       "      <th>principal component 1</th>\n",
       "      <th>principal component 2</th>\n",
       "      <th>principal component 3</th>\n",
       "      <th>principal component 4</th>\n",
       "      <th>principal component 5</th>\n",
       "      <th>principal component 6</th>\n",
       "      <th>y</th>\n",
       "    </tr>\n",
       "  </thead>\n",
       "  <tbody>\n",
       "    <tr>\n",
       "      <td>0</td>\n",
       "      <td>1.325828</td>\n",
       "      <td>1.055645</td>\n",
       "      <td>-0.816110</td>\n",
       "      <td>-2.355560</td>\n",
       "      <td>-0.716315</td>\n",
       "      <td>0.893129</td>\n",
       "      <td>0</td>\n",
       "    </tr>\n",
       "    <tr>\n",
       "      <td>1</td>\n",
       "      <td>1.209662</td>\n",
       "      <td>0.278829</td>\n",
       "      <td>-0.196454</td>\n",
       "      <td>0.120828</td>\n",
       "      <td>-0.101938</td>\n",
       "      <td>-0.937557</td>\n",
       "      <td>0</td>\n",
       "    </tr>\n",
       "    <tr>\n",
       "      <td>2</td>\n",
       "      <td>-0.492116</td>\n",
       "      <td>-0.304181</td>\n",
       "      <td>-1.710125</td>\n",
       "      <td>1.911574</td>\n",
       "      <td>-1.378135</td>\n",
       "      <td>-0.113853</td>\n",
       "      <td>0</td>\n",
       "    </tr>\n",
       "    <tr>\n",
       "      <td>3</td>\n",
       "      <td>2.627317</td>\n",
       "      <td>1.346726</td>\n",
       "      <td>-1.077820</td>\n",
       "      <td>-1.236611</td>\n",
       "      <td>-0.522834</td>\n",
       "      <td>-0.225545</td>\n",
       "      <td>0</td>\n",
       "    </tr>\n",
       "    <tr>\n",
       "      <td>4</td>\n",
       "      <td>-0.027645</td>\n",
       "      <td>-1.105560</td>\n",
       "      <td>1.035690</td>\n",
       "      <td>-1.210348</td>\n",
       "      <td>0.012388</td>\n",
       "      <td>0.376838</td>\n",
       "      <td>0</td>\n",
       "    </tr>\n",
       "  </tbody>\n",
       "</table>\n",
       "</div>"
      ],
      "text/plain": [
       "   principal component 1  principal component 2  principal component 3  \\\n",
       "0               1.325828               1.055645              -0.816110   \n",
       "1               1.209662               0.278829              -0.196454   \n",
       "2              -0.492116              -0.304181              -1.710125   \n",
       "3               2.627317               1.346726              -1.077820   \n",
       "4              -0.027645              -1.105560               1.035690   \n",
       "\n",
       "   principal component 4  principal component 5  principal component 6  y  \n",
       "0              -2.355560              -0.716315               0.893129  0  \n",
       "1               0.120828              -0.101938              -0.937557  0  \n",
       "2               1.911574              -1.378135              -0.113853  0  \n",
       "3              -1.236611              -0.522834              -0.225545  0  \n",
       "4              -1.210348               0.012388               0.376838  0  "
      ]
     },
     "execution_count": 35,
     "metadata": {},
     "output_type": "execute_result"
    }
   ],
   "source": [
    "finalDf = pd.concat([principalDf, df[['y']]],axis = 1)\n",
    "#drop NaN columns\n",
    "finalDf = finalDf.dropna()\n",
    "finalDf.head()"
   ]
  },
  {
   "cell_type": "code",
   "execution_count": 36,
   "metadata": {},
   "outputs": [
    {
     "name": "stderr",
     "output_type": "stream",
     "text": [
      "C:\\Users\\eugen\\Anaconda3\\lib\\site-packages\\pandas\\core\\ops\\__init__.py:1115: FutureWarning: elementwise comparison failed; returning scalar instead, but in the future will perform elementwise comparison\n",
      "  result = method(y)\n"
     ]
    },
    {
     "data": {
      "image/png": "[encoded data removed]",
      "text/plain": [
       "<Figure size 1008x432 with 1 Axes>"
      ]
     },
     "metadata": {
      "needs_background": "light"
     },
     "output_type": "display_data"
    }
   ],
   "source": [
    "fig = plt.figure(figsize = (14,6))\n",
    "ax1 = fig.add_subplot(1,2,1)\n",
    "ax1.set_xlabel('Principal Component 1',fontsize = 10)\n",
    "ax1.set_ylabel('Principal Component 2',fontsize = 10)\n",
    "ax1.set_title('6 Components PCA',fontsize = 15)\n",
    "targets = [0.0,1.0,'NaN']\n",
    "colors = 'rgb'\n",
    "for target , color in zip(targets,colors):\n",
    "    indicesToKeep = finalDf['y'] == target\n",
    "    ax1.scatter(finalDf.loc[indicesToKeep,'principal component 1']\n",
    "               ,finalDf.loc[indicesToKeep,'principal component 2']\n",
    "               ,c = color\n",
    "               ,s = 50)\n",
    "ax1.legend(targets)\n",
    "ax1.grid()"
   ]
  },
  {
   "cell_type": "code",
   "execution_count": 37,
   "metadata": {},
   "outputs": [
    {
     "name": "stdout",
     "output_type": "stream",
     "text": [
      "[0.20138465 0.15586271 0.13344624 0.12199225 0.11633165 0.11161944]\n",
      "0.8406369342279683\n"
     ]
    }
   ],
   "source": [
    "print(pca.explained_variance_ratio_)\n",
    "print(pca.explained_variance_ratio_.sum())"
   ]
  },
  {
   "cell_type": "code",
   "execution_count": 38,
   "metadata": {},
   "outputs": [
    {
     "data": {
      "text/plain": [
       "array([[ 0.64719733, -0.41311907,  0.47816706, -0.32687786, -0.00640661,\n",
       "         0.08965464, -0.25850738,  0.00838515],\n",
       "       [-0.0081734 , -0.2990264 , -0.34889927,  0.34919904, -0.27575723,\n",
       "         0.46212778, -0.47503462, -0.38933753],\n",
       "       [ 0.061303  ,  0.26846692,  0.22350854, -0.19228519, -0.58083642,\n",
       "         0.32128484,  0.49416981, -0.39043449],\n",
       "       [ 0.1606755 ,  0.40895594,  0.36300684,  0.54717691, -0.07916214,\n",
       "         0.34812955, -0.1334452 ,  0.48009732],\n",
       "       [ 0.05742438,  0.13398612,  0.16961668,  0.12382636,  0.74821119,\n",
       "         0.34084021,  0.17094165, -0.478993  ],\n",
       "       [-0.08839382, -0.18898952, -0.3111586 , -0.38220023,  0.13584543,\n",
       "         0.64480795,  0.22423654,  0.47860162]])"
      ]
     },
     "execution_count": 38,
     "metadata": {},
     "output_type": "execute_result"
    }
   ],
   "source": [
    "pca.components_"
   ]
  },
  {
   "cell_type": "code",
   "execution_count": 39,
   "metadata": {},
   "outputs": [
    {
     "data": {
      "text/plain": [
       "array([[ 0.64719733, -0.41311907,  0.47816706, -0.32687786, -0.00640661,\n",
       "         0.08965464, -0.25850738,  0.00838515],\n",
       "       [-0.0081734 , -0.2990264 , -0.34889927,  0.34919904, -0.27575723,\n",
       "         0.46212778, -0.47503462, -0.38933753],\n",
       "       [ 0.061303  ,  0.26846692,  0.22350854, -0.19228519, -0.58083642,\n",
       "         0.32128484,  0.49416981, -0.39043449],\n",
       "       [ 0.1606755 ,  0.40895594,  0.36300684,  0.54717691, -0.07916214,\n",
       "         0.34812955, -0.1334452 ,  0.48009732],\n",
       "       [ 0.05742438,  0.13398612,  0.16961668,  0.12382636,  0.74821119,\n",
       "         0.34084021,  0.17094165, -0.478993  ],\n",
       "       [-0.08839382, -0.18898952, -0.3111586 , -0.38220023,  0.13584543,\n",
       "         0.64480795,  0.22423654,  0.47860162],\n",
       "       [-0.01822056, -0.63801167,  0.12989619,  0.50240196, -0.03695363,\n",
       "        -0.07569048,  0.55631018,  0.082175  ],\n",
       "       [-0.73488171, -0.19967018,  0.57046737, -0.14497247, -0.02529375,\n",
       "         0.12768494, -0.23774046, -0.01291969]])"
      ]
     },
     "execution_count": 39,
     "metadata": {},
     "output_type": "execute_result"
    }
   ],
   "source": [
    "pca_all = PCA()\n",
    "pca_all.fit(x)\n",
    "W = pca_all.components_ # Z = W dot X.T\n",
    "W"
   ]
  },
  {
   "cell_type": "code",
   "execution_count": 40,
   "metadata": {},
   "outputs": [
    {
     "data": {
      "image/png": "[encoded data removed]",
      "text/plain": [
       "<Figure size 720x576 with 2 Axes>"
      ]
     },
     "metadata": {
      "needs_background": "light"
     },
     "output_type": "display_data"
    }
   ],
   "source": [
    "import seaborn as sns\n",
    "fig, ax = plt.subplots(figsize=(10, 8))\n",
    "sns.heatmap(W, annot=True, ax=ax)\n",
    "ax.set_yticklabels(['PC1', 'PC2', 'PC3', 'PC4','PC5', 'PC6', 'PC7', 'PC8'])\n",
    "ax.set_xticklabels(features)\n",
    "plt.show()"
   ]
  },
  {
   "cell_type": "markdown",
   "metadata": {},
   "source": [
    "# Train the model"
   ]
  },
  {
   "cell_type": "code",
   "execution_count": 41,
   "metadata": {},
   "outputs": [],
   "source": [
    "new_df_x=finalDf.iloc[:,[0,1,2,3,4,5]].values\n",
    "new_df_y=finalDf['y']"
   ]
  },
  {
   "cell_type": "code",
   "execution_count": 42,
   "metadata": {},
   "outputs": [],
   "source": [
    "import sys\n",
    "np.set_printoptions(threshold=sys.maxsize)\n",
    "kmeans = KMeans(n_clusters = 2, init = 'k-means++', max_iter = 300, n_init = 10, random_state = 42)\n",
    "kmeans.fit(x)\n",
    "new_y_pred = kmeans.fit_predict(new_df_x)"
   ]
  },
  {
   "cell_type": "markdown",
   "metadata": {},
   "source": [
    "## Recalculating the accuracy after PCA"
   ]
  },
  {
   "cell_type": "code",
   "execution_count": 43,
   "metadata": {},
   "outputs": [
    {
     "name": "stdout",
     "output_type": "stream",
     "text": [
      "---actual---\n",
      "0    100\n",
      "Name: actual, dtype: int64\n",
      "---predicted---\n",
      "0    58\n",
      "1    42\n",
      "Name: predicted, dtype: int64\n",
      "0    1972\n",
      "1    1842\n",
      "Name: predicted, dtype: int64\n",
      "0.5170424750917672\n",
      "0    274\n",
      "1    224\n",
      "Name: predicted, dtype: int64\n",
      "0.5502008032128514\n",
      "total accuracy: 0.5336216391523092\n"
     ]
    }
   ],
   "source": [
    "from sklearn.cluster import KMeans\n",
    "\n",
    "accuracy_table = generate_accuracy_table(new_y_pred)\n",
    "preview_distinct_values(accuracy_table)\n",
    "calculate_accuracy_for_2_categories(accuracy_table)"
   ]
  },
  {
   "cell_type": "markdown",
   "metadata": {},
   "source": [
    "## Scatter Plot after PCA"
   ]
  },
  {
   "cell_type": "code",
   "execution_count": 44,
   "metadata": {},
   "outputs": [
    {
     "data": {
      "image/png": "[encoded data removed]",
      "text/plain": [
       "<Figure size 432x288 with 1 Axes>"
      ]
     },
     "metadata": {
      "needs_background": "light"
     },
     "output_type": "display_data"
    }
   ],
   "source": [
    "#Finding the optimum number of clusters for k-means classification\n",
    "from sklearn.cluster import KMeans\n",
    "wcss = []\n",
    "\n",
    "# Trying kmeans for k=1 to k=10\n",
    "for i in range(1, 11):\n",
    "    kmeans = KMeans(n_clusters = i, init = 'k-means++', max_iter = 300, n_init = 10, random_state = 0)\n",
    "    kmeans.fit(new_df_x)\n",
    "    wcss.append(kmeans.inertia_)\n",
    "    \n",
    "#Plotting the results onto a line graph, allowing us to observe 'The elbow'\n",
    "plt.plot(range(1, 11), wcss)\n",
    "plt.title('The elbow method')\n",
    "plt.xlabel('Number of clusters')\n",
    "plt.ylabel('WCSS') #within cluster sum of squares\n",
    "plt.show()"
   ]
  },
  {
   "cell_type": "code",
   "execution_count": 45,
   "metadata": {},
   "outputs": [],
   "source": [
    "#Applying kmeans to the dataset / Creating the kmeans classifier\n",
    "kmeans = KMeans(n_clusters = 7, init = 'k-means++', max_iter = 300, n_init = 10, random_state = 0)\n",
    "new_df_y_kmeans = kmeans.fit_predict(new_df_x)"
   ]
  },
  {
   "cell_type": "code",
   "execution_count": 46,
   "metadata": {},
   "outputs": [
    {
     "data": {
      "image/png": "[encoded data removed]",
      "text/plain": [
       "<Figure size 432x288 with 1 Axes>"
      ]
     },
     "metadata": {
      "needs_background": "light"
     },
     "output_type": "display_data"
    }
   ],
   "source": [
    "#Visualising the clusters\n",
    "plt.scatter(new_df_x[new_df_y_kmeans == 0, 0], new_df_x[new_df_y_kmeans == 0, 1], s = 20, c = 'red', label = 'Cluster 1')\n",
    "plt.scatter(new_df_x[new_df_y_kmeans == 1, 0], new_df_x[new_df_y_kmeans == 1, 1], s = 20, c = 'blue', label = 'Cluster 2')\n",
    "plt.scatter(new_df_x[new_df_y_kmeans == 2, 0], new_df_x[new_df_y_kmeans == 2, 1], s = 20, c = 'green', label = 'Cluster 3')\n",
    "plt.scatter(new_df_x[new_df_y_kmeans == 3, 0], new_df_x[new_df_y_kmeans == 3, 1], s = 20, c = 'black', label = 'Cluster 4')\n",
    "plt.scatter(new_df_x[new_df_y_kmeans == 4, 0], new_df_x[new_df_y_kmeans == 4, 1], s = 20, c = 'purple', label = 'Cluster 5')\n",
    "plt.scatter(new_df_x[new_df_y_kmeans == 5, 0], new_df_x[new_df_y_kmeans == 5, 1], s = 20, c = 'orange', label = 'Cluster 6')\n",
    "plt.scatter(new_df_x[new_df_y_kmeans == 6, 0], new_df_x[new_df_y_kmeans == 6, 1], s = 20, c = 'pink', label = 'Cluster 7')\n",
    "#Plotting the centroids of the clusters\n",
    "plt.scatter(kmeans.cluster_centers_[:, 0], kmeans.cluster_centers_[:,1], s = 50, c = 'yellow', label = 'Centroids')\n",
    "#rint(normalized_df.columns)\n",
    "plt.title('Visualising the clusters')\n",
    "plt.legend()\n",
    "plt.show()"
   ]
  },
  {
   "cell_type": "code",
   "execution_count": 47,
   "metadata": {},
   "outputs": [
    {
     "name": "stdout",
     "output_type": "stream",
     "text": [
      "0.26716017723083496\n"
     ]
    }
   ],
   "source": [
    "import time\n",
    "start = time.time()\n",
    "kmeans.fit(new_df_x)\n",
    "end= time.time()\n",
    "speed = end - start\n",
    "print(speed)"
   ]
  }
 ],
 "metadata": {
  "kernelspec": {
   "display_name": "Python 3",
   "language": "python",
   "name": "python3"
  },
  "language_info": {
   "codemirror_mode": {
    "name": "ipython",
    "version": 3
   },
   "file_extension": ".py",
   "mimetype": "text/x-python",
   "name": "python",
   "nbconvert_exporter": "python",
   "pygments_lexer": "ipython3",
   "version": "3.7.4"
  }
 },
 "nbformat": 4,
 "nbformat_minor": 2
}
